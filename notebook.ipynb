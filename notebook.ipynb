{
 "cells": [
  {
   "cell_type": "markdown",
   "metadata": {},
   "source": [
    "#### The final project\n",
    "Last one baybee\n",
    "\n",
    "### What's going on in here?\n",
    "I play too much DotA 2. I have spent approximately 5,000 hours just playing the game, not to mention the countless hours I've spent watching and studying it. That's not a flex, I'm not good or anything, but a testament to the degree to which my life could be better if I had never found the game. Anyway, I'm going to take advantage of it for the first time in my whole life and use some DotA datA to complete this project.  \n",
    "\n",
    "#### A little background on DotA\n",
    "Here's the website for reference: https://dota2.com. Top-down mouse-movement MOBA (multiplayer online battle arena) RTS (real-time strategy). If you've heard of League of Legends, it's basically League for *cultured* people. Two teams of five players first spend a few minutes drafting \"heroes\", each player selecting a unique hero. They are dropped into their team's base on opposite sides of a big map and they have to kill stuff to get more money to kill more stuff until they can kill the big rock in the other team's base. Best game ever made.  \n",
    "\n",
    "My approach was honestly first seeing what data was convenient to get, then deciding what conclusions I could draw from it. Valve, the company that makes DotA 2 (one of the most profitable companies in the entire world) records basically every point of data from every frame of the match for every match. There is a way to get the data straight from them but it involves getting an API key and sacrificing a goat and I just ran out of goats trying to win my last ranked game.   \n",
    "\n",
    "I've long known about OpenDota, a match analysis and statistics platform for analysing the game. They have an API (docs: https://docs.opendota.com/) that probably hasn't been updated beyond upkeep in the last 5 years. In spite of that and Valve's notorious spaghetti code, I was able to get the data I needed out of it because they have a `/explorer` call that lets me make arbitrary queries to their database. That sounds risky for them to offer but I'm glad they do because all the rest of their calls kinda blow. You can get 100 random matches but it's almost always the same 100. In spite of my insult, I think highly of them because of their extremely generous rates. You don't need an API key to make 50k requests a month or 60 requests a minute. Great for me, because I only have to make a handful of requests since they'll let me basically dump their database over the internet into my computer.   \n",
    "\n",
    "Let's get into the nitty-gritty. Some libraries I imported straight away, some libraries I'll import as the project goes on. For a full list... read the full article >:}. `requests` to send requests to OpenDota's API, `pandas` to shuffle data around, `json` to parse their JSON responses, `urllib` because their `/explorer` call wants \"percent-encoded strings\" and it does that so I don't have to.  "
   ]
  },
  {
   "cell_type": "code",
   "execution_count": 4,
   "metadata": {},
   "outputs": [],
   "source": [
    "import requests\n",
    "import pandas as pd\n",
    "import json\n",
    "import urllib"
   ]
  },
  {
   "cell_type": "markdown",
   "metadata": {},
   "source": [
    "So while I was wandering around their docs pretending I'm a capable adult who knows what he's doing, I tripped and fell over this `/schema` thing. After a bit of poking around, testing their other calls and finding out how relatively useless they are, and sobbing in the corner, I figured out that `/explorer` and `/schema` let me basically do whatever I want. Let's see what their database looks like."
   ]
  },
  {
   "cell_type": "code",
   "execution_count": 5,
   "metadata": {},
   "outputs": [],
   "source": [
    "schema_response = requests.get(\"https://api.opendota.com/api/schema\")\n"
   ]
  },
  {
   "cell_type": "code",
   "execution_count": 45,
   "metadata": {},
   "outputs": [
    {
     "name": "stdout",
     "output_type": "stream",
     "text": [
      "Table name: api_key_usage\n",
      "Table name: api_keys\n",
      "Table name: competitive_rank\n",
      "Table name: cosmetics\n",
      "Table name: hero_ranking\n",
      "Table name: hero_search\n",
      "Table name: heroes\n",
      "Table name: items\n",
      "Table name: leaderboard_rank\n",
      "Table name: leagues\n",
      "Table name: match_gcdata\n",
      "Table name: match_logs\n",
      "Table name: match_patch\n",
      "Table name: matches\n",
      "Table name: mmr_estimates\n",
      "Table name: notable_players\n",
      "Table name: parsed_matches\n",
      "Table name: picks_bans\n",
      "Table name: player_matches\n",
      "Table name: player_ratings\n",
      "Table name: players\n",
      "Table name: public_matches\n",
      "Table name: public_player_matches\n",
      "Table name: queue\n",
      "Table name: rank_tier\n",
      "Table name: rank_tier_2019_1\n",
      "Table name: scenarios\n",
      "Table name: solo_competitive_rank\n",
      "Table name: subscriptions\n",
      "Table name: team_match\n",
      "Table name: team_rating\n",
      "Table name: team_scenarios\n",
      "Table name: teams\n",
      "Table name: user_usage\n",
      "Table name: webhooks\n"
     ]
    }
   ],
   "source": [
    "schema_parsed = json.loads(schema_response.content)\n",
    "schema_df = pd.DataFrame(schema_parsed)\n",
    "for index, table in schema_df.groupby(\"table_name\"):\n",
    "    print(\"Table name: \" + str(index))\n",
    "    #print(table[\"column_name\"]) # use this line to see all cols in all tables"
   ]
  },
  {
   "cell_type": "markdown",
   "metadata": {},
   "source": [
    "Now you don't have to do this, but I had that line up there uncommented and looked into the tables that had promising names for data I thought might be interesting. The following is a list of tables that seemed potentially useful for getting data about the average dota player's experience:\n",
    "##### tables of note:\n",
    "* competitive_rank: stores data about players' rankings in some system. Not the game's normal ranked \"MMR\" (matchmaking rating, measure of skill).\n",
    "* heroes: stores mostly useless constant data about all of the heroes\n",
    "* items: stores mostly useless constant data about all of the items the heroes can buy to get better at killin\n",
    "* match_logs: has logs from matches. Almost too rich, has data on objective kills, teamfights etc. Lots of insight here.\n",
    "* match_path: has matchID and patch cols, I guess it's for getting the patch of a match. Not needed, I'll just take data by time which guarantees a single patch.\n",
    "* matches: has match data for tournament games\n",
    "* parsed_matches: has matchIDs of parsed matches (OpenDota parses some matches by requesting and transforming data from Valve)\n",
    "* player_matches: has like a million columns. Contains data about players in match (items they bought and when, etc). Useful, but bloated.\n",
    "* players: has mildly interesting data about players but doesn't seem to have much on their matches\n",
    "* public_matches and player_public_matches: seem to have the data I want.\n",
    "* scenarios: seems to have heroes and item timings? Honestly the cols don't do me a lot of good here  \n",
    "\n",
    "After looking over all of these, it seemed like the best choice for getting a lot of data and getting useful data was \"public_matches\". "
   ]
  },
  {
   "cell_type": "code",
   "execution_count": 7,
   "metadata": {},
   "outputs": [
    {
     "data": {
      "text/html": [
       "<div>\n",
       "<style scoped>\n",
       "    .dataframe tbody tr th:only-of-type {\n",
       "        vertical-align: middle;\n",
       "    }\n",
       "\n",
       "    .dataframe tbody tr th {\n",
       "        vertical-align: top;\n",
       "    }\n",
       "\n",
       "    .dataframe thead th {\n",
       "        text-align: right;\n",
       "    }\n",
       "</style>\n",
       "<table border=\"1\" class=\"dataframe\">\n",
       "  <thead>\n",
       "    <tr style=\"text-align: right;\">\n",
       "      <th></th>\n",
       "      <th>table_name</th>\n",
       "      <th>column_name</th>\n",
       "      <th>data_type</th>\n",
       "    </tr>\n",
       "  </thead>\n",
       "  <tbody>\n",
       "    <tr>\n",
       "      <th>271</th>\n",
       "      <td>public_matches</td>\n",
       "      <td>match_id</td>\n",
       "      <td>bigint</td>\n",
       "    </tr>\n",
       "    <tr>\n",
       "      <th>272</th>\n",
       "      <td>public_matches</td>\n",
       "      <td>match_seq_num</td>\n",
       "      <td>bigint</td>\n",
       "    </tr>\n",
       "    <tr>\n",
       "      <th>273</th>\n",
       "      <td>public_matches</td>\n",
       "      <td>radiant_win</td>\n",
       "      <td>boolean</td>\n",
       "    </tr>\n",
       "    <tr>\n",
       "      <th>274</th>\n",
       "      <td>public_matches</td>\n",
       "      <td>start_time</td>\n",
       "      <td>integer</td>\n",
       "    </tr>\n",
       "    <tr>\n",
       "      <th>275</th>\n",
       "      <td>public_matches</td>\n",
       "      <td>duration</td>\n",
       "      <td>integer</td>\n",
       "    </tr>\n",
       "    <tr>\n",
       "      <th>276</th>\n",
       "      <td>public_matches</td>\n",
       "      <td>avg_mmr</td>\n",
       "      <td>integer</td>\n",
       "    </tr>\n",
       "    <tr>\n",
       "      <th>277</th>\n",
       "      <td>public_matches</td>\n",
       "      <td>num_mmr</td>\n",
       "      <td>integer</td>\n",
       "    </tr>\n",
       "    <tr>\n",
       "      <th>278</th>\n",
       "      <td>public_matches</td>\n",
       "      <td>lobby_type</td>\n",
       "      <td>integer</td>\n",
       "    </tr>\n",
       "    <tr>\n",
       "      <th>279</th>\n",
       "      <td>public_matches</td>\n",
       "      <td>game_mode</td>\n",
       "      <td>integer</td>\n",
       "    </tr>\n",
       "    <tr>\n",
       "      <th>280</th>\n",
       "      <td>public_matches</td>\n",
       "      <td>avg_rank_tier</td>\n",
       "      <td>double precision</td>\n",
       "    </tr>\n",
       "    <tr>\n",
       "      <th>281</th>\n",
       "      <td>public_matches</td>\n",
       "      <td>num_rank_tier</td>\n",
       "      <td>integer</td>\n",
       "    </tr>\n",
       "    <tr>\n",
       "      <th>282</th>\n",
       "      <td>public_matches</td>\n",
       "      <td>cluster</td>\n",
       "      <td>integer</td>\n",
       "    </tr>\n",
       "  </tbody>\n",
       "</table>\n",
       "</div>"
      ],
      "text/plain": [
       "         table_name    column_name         data_type\n",
       "271  public_matches       match_id            bigint\n",
       "272  public_matches  match_seq_num            bigint\n",
       "273  public_matches    radiant_win           boolean\n",
       "274  public_matches     start_time           integer\n",
       "275  public_matches       duration           integer\n",
       "276  public_matches        avg_mmr           integer\n",
       "277  public_matches        num_mmr           integer\n",
       "278  public_matches     lobby_type           integer\n",
       "279  public_matches      game_mode           integer\n",
       "280  public_matches  avg_rank_tier  double precision\n",
       "281  public_matches  num_rank_tier           integer\n",
       "282  public_matches        cluster           integer"
      ]
     },
     "execution_count": 7,
     "metadata": {},
     "output_type": "execute_result"
    }
   ],
   "source": [
    "schema_df[schema_df[\"table_name\"] == \"public_matches\"]"
   ]
  },
  {
   "cell_type": "markdown",
   "metadata": {},
   "source": [
    "Some of these columns I knew right away just based on their names and values, others were more nuanced, and others I still don't know.\n",
    "* `match_id` is a unique number that represents a particular match. \n",
    "* `match_seq_num` seems to indicate the sequence in which matches took place, which really doesn't matter to me because of other cols.\n",
    "* `radiant_win` is boolean, says if one of the teams won. There can only be two outcomes, either Radiant wins or Dire wins.\n",
    "* `start_time` is a timestamp down to the second for when the match started.\n",
    "* `duration` is the duration of the match in seconds.\n",
    "* `avg_mmr` seems to be the average mmr of the match, but there's a lot of reasons why it's more complicated than that. More on that later.\n",
    "* `num_mmr` I spent hours failing to figure this one out, more on that later as well.\n",
    "* `lobby_type` is the type of lobby the match was hosted in. More on that.\n",
    "* `game_mode` is the type of game played in the lobby. M O T.\n",
    "* `avg_rank_tier` honestly no idea, don't care. Doesn't seem more useful than `avg_mmr`.\n",
    "* `num_rank_tier` presumably the `num_mmr` of `avg_rank_tier`. Don't know don't care.\n",
    "* `cluster` at first I thought this was useless or an artifact of their database software, turns out it's the number ID of the server cluster the match is played on, a perfect analog for \"region\".  \n",
    "  \n",
    "After considerably faffing about trying to remember how to use SQL and sending goofy requests to their API I learned a few things. First is that there are somewhere in the neighborhood of 16 million matches in the table I want. I wanted all of them, but then realized I wanted them all to be from the same game patch (patches change the balance of the game and can mess with my analysis). I looked over the update news and saw that there was no balance patch in April, so I just found the unicode timestamps for the start and end of April this year (down to the second) and grabbed stuff that was in that range. There seems to be some number of rows that their database refuses to send to me in a single request, so I guessed and checked and it turns out I can get the ~3 million rows for April in about four chunks. Your mileage may vary trying to run this code, if you're getting 400 response codes just try a smaller chunk of matches.   \n",
    "I basically just kept grabbing non-overlapping chunks of their table by the `start_time` of the matches until I had all of them, then I asked pandas to combine all of the dataframes and used SQLite to save them to my hard disk so I wouldn't have to mess around with remaking these requests every time I reopened my editor.  \n",
    "  \n",
    "That's the overall plot, below are some commented code sections that document my torment trying to get the stars aligned. It was hard to tell if my queries were failing because they were malformed or because I was asking for something the database didn't want to deliver, but I worked it out through brute force. If I had every request I made here this thing would take up at least another page without having more info, so I've cut down the actual work I did here for presentation pizzaz. "
   ]
  },
  {
   "cell_type": "code",
   "execution_count": 8,
   "metadata": {},
   "outputs": [
    {
     "name": "stdout",
     "output_type": "stream",
     "text": [
      "SELECT%20COUNT%28%2A%29%20FROM%20public_matches%20where%20start_time%20BETWEEN%201648785600%20AND%201651377600\n",
      "https://api.opendota.com/api/explorer?sql=SELECT%20COUNT%28%2A%29%20FROM%20public_matches%20where%20start_time%20BETWEEN%201648785600%20AND%201651377600\n",
      "200\n",
      "dict_keys(['command', 'rowCount', 'oid', 'rows', 'fields', '_parsers', '_types', 'RowCtor', 'rowAsArray', 'err'])\n",
      "Number of rows in April: 2726818\n"
     ]
    }
   ],
   "source": [
    "# database_request = urllib.parse.quote(\"select * from matches limit 5\".encode(\"utf8\")) # seems to be capable of drawing really old matches, found one from 2012\n",
    "# turns out \"matches\" has tournament matches and since there's so few it seems to have literally all of them since the game was released?\n",
    "# database_request = urllib.parse.quote(\"select * from public_matches where start_time > 1651377600\".encode(\"utf8\"))\n",
    "# ^^^^ above I tried grabbing all matches since the end of April (this was on like 5/3 so I knew there wouldn't be many)\n",
    "# the above two requests helped me realize I could request large chunks of matches; that I was being limited by the chunk size\n",
    "\n",
    "# I wondered how far back the public_matches table went, so I used this query:\n",
    "# database_request = urllib.parse.quote(\"SELECT match_id FROM public_matches WHERE start_time = ( SELECT MIN(start_time) FROM public_matches ) ORDER BY match_id ASC LIMIT 1;\".encode(\"utf8\"))\n",
    "# turns out they only went back about 6 months. So average of ~3 million matches a month so far this year. Nice.\n",
    "\n",
    "\n",
    "# start of april this year 1648785600\n",
    "# end of april this year 1651377600\n",
    "# how many matches happened in April?\n",
    "database_request = urllib.parse.quote(\"SELECT COUNT(*) FROM public_matches where start_time BETWEEN 1648785600 AND 1651377600\".encode(\"utf8\"))\n",
    "print(database_request) # what does this SQL string look like?\n",
    "request_string = \"https://api.opendota.com/api/explorer?sql=\" + database_request\n",
    "print(request_string) # what's the request string look like?\n",
    "api_response = requests.get(request_string)\n",
    "print(api_response.status_code) # what's the status of the request?\n",
    "api_parsed_json = json.loads(api_response.content)\n",
    "print(api_parsed_json.keys())\n",
    "print(\"Number of rows in April: \" + str(api_parsed_json[\"rows\"][0][\"count\"]))\n",
    "# run without limiting timeframe there's 17 million matches in the table"
   ]
  },
  {
   "cell_type": "markdown",
   "metadata": {},
   "source": [
    "Below you can see me poop-knifing (technical term) the data to try and get it to go through. I just updated the code in the request chunk with the various timestamps, but for you I've arranged it into a series of requests so that you can easily follow along if you want. Ain't I sweet? Like a said earlier, the database seems tempermental about these requests so you still might end up having to reduce the size of some slices by lowering the time gap you're requesting. Worst comes to worst, shoot me an email at jacksonpielstick@gmail.com and I'll link you my sqlite DB. It takes me around a minute to run this code, you should see requests coming back every 10-20 seconds in your output."
   ]
  },
  {
   "cell_type": "code",
   "execution_count": 9,
   "metadata": {},
   "outputs": [
    {
     "name": "stdout",
     "output_type": "stream",
     "text": [
      "SELECT%20%2A%20FROM%20public_matches%20where%20start_time%20BETWEEN%201651077600%20AND%201651377600\n",
      "https://api.opendota.com/api/explorer?sql=SELECT%20%2A%20FROM%20public_matches%20where%20start_time%20BETWEEN%201651077600%20AND%201651377600\n",
      "<Response [200]>\n",
      "SELECT%20%2A%20FROM%20public_matches%20where%20start_time%20BETWEEN%201651077600%20AND%201651377600\n",
      "https://api.opendota.com/api/explorer?sql=SELECT%20%2A%20FROM%20public_matches%20where%20start_time%20BETWEEN%201651077600%20AND%201651377600\n",
      "<Response [200]>\n",
      "SELECT%20%2A%20FROM%20public_matches%20where%20start_time%20BETWEEN%201651077600%20AND%201651377600\n",
      "https://api.opendota.com/api/explorer?sql=SELECT%20%2A%20FROM%20public_matches%20where%20start_time%20BETWEEN%201651077600%20AND%201651377600\n",
      "<Response [200]>\n",
      "SELECT%20%2A%20FROM%20public_matches%20where%20start_time%20BETWEEN%201651077600%20AND%201651377600\n",
      "https://api.opendota.com/api/explorer?sql=SELECT%20%2A%20FROM%20public_matches%20where%20start_time%20BETWEEN%201651077600%20AND%201651377600\n",
      "<Response [200]>\n",
      "Number of rows: 1198380\n"
     ]
    },
    {
     "data": {
      "text/html": [
       "<div>\n",
       "<style scoped>\n",
       "    .dataframe tbody tr th:only-of-type {\n",
       "        vertical-align: middle;\n",
       "    }\n",
       "\n",
       "    .dataframe tbody tr th {\n",
       "        vertical-align: top;\n",
       "    }\n",
       "\n",
       "    .dataframe thead th {\n",
       "        text-align: right;\n",
       "    }\n",
       "</style>\n",
       "<table border=\"1\" class=\"dataframe\">\n",
       "  <thead>\n",
       "    <tr style=\"text-align: right;\">\n",
       "      <th></th>\n",
       "      <th>match_id</th>\n",
       "      <th>match_seq_num</th>\n",
       "      <th>radiant_win</th>\n",
       "      <th>start_time</th>\n",
       "      <th>duration</th>\n",
       "      <th>avg_mmr</th>\n",
       "      <th>num_mmr</th>\n",
       "      <th>lobby_type</th>\n",
       "      <th>game_mode</th>\n",
       "      <th>avg_rank_tier</th>\n",
       "      <th>num_rank_tier</th>\n",
       "      <th>cluster</th>\n",
       "    </tr>\n",
       "  </thead>\n",
       "  <tbody>\n",
       "    <tr>\n",
       "      <th>96641</th>\n",
       "      <td>6545705614</td>\n",
       "      <td>5467890710</td>\n",
       "      <td>False</td>\n",
       "      <td>1651174747</td>\n",
       "      <td>2942</td>\n",
       "      <td>4053.0</td>\n",
       "      <td>1.0</td>\n",
       "      <td>7</td>\n",
       "      <td>22</td>\n",
       "      <td>51</td>\n",
       "      <td>6</td>\n",
       "      <td>181</td>\n",
       "    </tr>\n",
       "    <tr>\n",
       "      <th>177939</th>\n",
       "      <td>6547112605</td>\n",
       "      <td>5469134098</td>\n",
       "      <td>True</td>\n",
       "      <td>1651259558</td>\n",
       "      <td>2633</td>\n",
       "      <td>NaN</td>\n",
       "      <td>NaN</td>\n",
       "      <td>7</td>\n",
       "      <td>22</td>\n",
       "      <td>34</td>\n",
       "      <td>5</td>\n",
       "      <td>181</td>\n",
       "    </tr>\n",
       "    <tr>\n",
       "      <th>79795</th>\n",
       "      <td>6545433317</td>\n",
       "      <td>5467630992</td>\n",
       "      <td>True</td>\n",
       "      <td>1651162373</td>\n",
       "      <td>1597</td>\n",
       "      <td>3510.0</td>\n",
       "      <td>2.0</td>\n",
       "      <td>7</td>\n",
       "      <td>22</td>\n",
       "      <td>42</td>\n",
       "      <td>5</td>\n",
       "      <td>153</td>\n",
       "    </tr>\n",
       "    <tr>\n",
       "      <th>134729</th>\n",
       "      <td>6546340802</td>\n",
       "      <td>5468456601</td>\n",
       "      <td>True</td>\n",
       "      <td>1651228309</td>\n",
       "      <td>2362</td>\n",
       "      <td>2851.0</td>\n",
       "      <td>1.0</td>\n",
       "      <td>7</td>\n",
       "      <td>22</td>\n",
       "      <td>29</td>\n",
       "      <td>2</td>\n",
       "      <td>155</td>\n",
       "    </tr>\n",
       "    <tr>\n",
       "      <th>159061</th>\n",
       "      <td>6546803302</td>\n",
       "      <td>5468838920</td>\n",
       "      <td>False</td>\n",
       "      <td>1651246682</td>\n",
       "      <td>1728</td>\n",
       "      <td>3584.0</td>\n",
       "      <td>3.0</td>\n",
       "      <td>7</td>\n",
       "      <td>22</td>\n",
       "      <td>61</td>\n",
       "      <td>6</td>\n",
       "      <td>153</td>\n",
       "    </tr>\n",
       "    <tr>\n",
       "      <th>241282</th>\n",
       "      <td>6548218604</td>\n",
       "      <td>5470108288</td>\n",
       "      <td>False</td>\n",
       "      <td>1651325689</td>\n",
       "      <td>1941</td>\n",
       "      <td>NaN</td>\n",
       "      <td>NaN</td>\n",
       "      <td>7</td>\n",
       "      <td>22</td>\n",
       "      <td>13</td>\n",
       "      <td>2</td>\n",
       "      <td>187</td>\n",
       "    </tr>\n",
       "    <tr>\n",
       "      <th>212865</th>\n",
       "      <td>6547677905</td>\n",
       "      <td>5469645775</td>\n",
       "      <td>False</td>\n",
       "      <td>1651301420</td>\n",
       "      <td>2491</td>\n",
       "      <td>NaN</td>\n",
       "      <td>NaN</td>\n",
       "      <td>7</td>\n",
       "      <td>22</td>\n",
       "      <td>14</td>\n",
       "      <td>2</td>\n",
       "      <td>152</td>\n",
       "    </tr>\n",
       "    <tr>\n",
       "      <th>238260</th>\n",
       "      <td>6548160712</td>\n",
       "      <td>5470059998</td>\n",
       "      <td>False</td>\n",
       "      <td>1651323695</td>\n",
       "      <td>1900</td>\n",
       "      <td>3825.0</td>\n",
       "      <td>2.0</td>\n",
       "      <td>7</td>\n",
       "      <td>22</td>\n",
       "      <td>36</td>\n",
       "      <td>6</td>\n",
       "      <td>155</td>\n",
       "    </tr>\n",
       "    <tr>\n",
       "      <th>71243</th>\n",
       "      <td>6545286916</td>\n",
       "      <td>5467512088</td>\n",
       "      <td>True</td>\n",
       "      <td>1651156788</td>\n",
       "      <td>1992</td>\n",
       "      <td>3739.0</td>\n",
       "      <td>3.0</td>\n",
       "      <td>7</td>\n",
       "      <td>3</td>\n",
       "      <td>42</td>\n",
       "      <td>8</td>\n",
       "      <td>227</td>\n",
       "    </tr>\n",
       "    <tr>\n",
       "      <th>101399</th>\n",
       "      <td>6545775808</td>\n",
       "      <td>5467945018</td>\n",
       "      <td>False</td>\n",
       "      <td>1651179087</td>\n",
       "      <td>2911</td>\n",
       "      <td>3573.0</td>\n",
       "      <td>5.0</td>\n",
       "      <td>7</td>\n",
       "      <td>22</td>\n",
       "      <td>61</td>\n",
       "      <td>6</td>\n",
       "      <td>187</td>\n",
       "    </tr>\n",
       "  </tbody>\n",
       "</table>\n",
       "</div>"
      ],
      "text/plain": [
       "          match_id  match_seq_num  radiant_win  start_time  duration  avg_mmr  \\\n",
       "96641   6545705614     5467890710        False  1651174747      2942   4053.0   \n",
       "177939  6547112605     5469134098         True  1651259558      2633      NaN   \n",
       "79795   6545433317     5467630992         True  1651162373      1597   3510.0   \n",
       "134729  6546340802     5468456601         True  1651228309      2362   2851.0   \n",
       "159061  6546803302     5468838920        False  1651246682      1728   3584.0   \n",
       "241282  6548218604     5470108288        False  1651325689      1941      NaN   \n",
       "212865  6547677905     5469645775        False  1651301420      2491      NaN   \n",
       "238260  6548160712     5470059998        False  1651323695      1900   3825.0   \n",
       "71243   6545286916     5467512088         True  1651156788      1992   3739.0   \n",
       "101399  6545775808     5467945018        False  1651179087      2911   3573.0   \n",
       "\n",
       "        num_mmr  lobby_type  game_mode  avg_rank_tier  num_rank_tier  cluster  \n",
       "96641       1.0           7         22             51              6      181  \n",
       "177939      NaN           7         22             34              5      181  \n",
       "79795       2.0           7         22             42              5      153  \n",
       "134729      1.0           7         22             29              2      155  \n",
       "159061      3.0           7         22             61              6      153  \n",
       "241282      NaN           7         22             13              2      187  \n",
       "212865      NaN           7         22             14              2      152  \n",
       "238260      2.0           7         22             36              6      155  \n",
       "71243       3.0           7          3             42              8      227  \n",
       "101399      5.0           7         22             61              6      187  "
      ]
     },
     "execution_count": 9,
     "metadata": {},
     "output_type": "execute_result"
    }
   ],
   "source": [
    "# I'm just gonna try breaking it into progressively smaller chunks until it goes through\n",
    "# start of april this year   1648785600\n",
    "# end of april this year     1651377600\n",
    "\n",
    "# first end timestamp  =     1649433600\n",
    "# second end timestamp =     1650100000\n",
    "# third end timestamp  =     1650600000\n",
    "# fourth end timestamp =     1651077600\n",
    "\n",
    "\n",
    "chunk_request1 = urllib.parse.quote(\"SELECT * FROM public_matches where start_time BETWEEN 1651077600 AND 1651377600\".encode(\"utf8\"))\n",
    "chunk_request2 = urllib.parse.quote(\"SELECT * FROM public_matches where start_time BETWEEN 1651077600 AND 1651377600\".encode(\"utf8\"))\n",
    "chunk_request3 = urllib.parse.quote(\"SELECT * FROM public_matches where start_time BETWEEN 1651077600 AND 1651377600\".encode(\"utf8\"))\n",
    "chunk_request4 = urllib.parse.quote(\"SELECT * FROM public_matches where start_time BETWEEN 1651077600 AND 1651377600\".encode(\"utf8\"))\n",
    "chunk_requests = [chunk_request1, chunk_request2, chunk_request3, chunk_request4]\n",
    "\n",
    "# accumulator df\n",
    "mega_df = pd.DataFrame()\n",
    "\n",
    "for req in chunk_requests:\n",
    "    print(req) # SQL string\n",
    "    chunk_request_string = \"https://api.opendota.com/api/explorer?sql=\" + req\n",
    "    print(chunk_request_string) # API string\n",
    "    chunk_response = requests.get(chunk_request_string)\n",
    "    print(chunk_response) # response code\n",
    "    chunk_parsed_json = json.loads(chunk_response.content)\n",
    "    chunk_df = pd.DataFrame(chunk_parsed_json[\"rows\"])\n",
    "    mega_df = pd.concat([mega_df, chunk_df])\n",
    "\n",
    "print(\"Number of rows: \" + str(len(mega_df)))\n",
    "mega_df.sample(10)"
   ]
  },
  {
   "cell_type": "markdown",
   "metadata": {},
   "source": [
    "Alright so that's our dataset in memory (probably also on disk? pandas is handling it so I don't have to). 2.7 million matches of DotA 2. Let's get it saved to disk before something explodes. Using `sqlite3` because it's an easy, local, compact database and it plays nice with pandas."
   ]
  },
  {
   "cell_type": "code",
   "execution_count": 10,
   "metadata": {},
   "outputs": [],
   "source": [
    "import sqlite3"
   ]
  },
  {
   "cell_type": "code",
   "execution_count": 11,
   "metadata": {},
   "outputs": [],
   "source": [
    "database = \"./dootaboose.sqlite\"\n",
    "conn = sqlite3.connect(database)\n",
    "mega_df.to_sql(name='PublicMatchesApril', con=conn)\n",
    "conn.close()"
   ]
  },
  {
   "cell_type": "markdown",
   "metadata": {},
   "source": [
    "WOOOO! SAFE. Okay, now whenever we want to draw the data out of the database we can use the commented-out code below. There is technically an issue with the index getting copied into a new column. It's probably as easy as adding an argument to read_sql() to fix that, but I don't wanna fool with it. It's techincally not necessary to save the database to follow along here, just good practice."
   ]
  },
  {
   "cell_type": "code",
   "execution_count": 12,
   "metadata": {},
   "outputs": [],
   "source": [
    "# database = \"./dootaboose.sqlite\"\n",
    "# conn = sqlite3.connect(database)\n",
    "# mega_df =  pd.read_sql(\"select * from PublicMatchesApril\", con=conn)\n",
    "# conn.close()"
   ]
  },
  {
   "cell_type": "markdown",
   "metadata": {},
   "source": [
    "Here I was doing a little warm-up exploratory analysis. I wanted to make sure that my data seemed reasonable in case I made some mistake grabbing it. Here I get the total number of matches, the number of Radiant and Dire wins, and their winrates. If they didn't add up to 100%, I'd have known that there was something strange about the data."
   ]
  },
  {
   "cell_type": "code",
   "execution_count": 13,
   "metadata": {},
   "outputs": [
    {
     "name": "stdout",
     "output_type": "stream",
     "text": [
      "Matches: 1198380\n",
      "Radiant Wins: 595272\n",
      "Dire Wins: 603108\n",
      "Radiant Winrate: 0.4967305862914935\n",
      "Dire Winrate: 0.5032694137085065\n"
     ]
    }
   ],
   "source": [
    "# mega_df[\"radiant_win\"].isnull().sum()\n",
    "print(\"Matches: \" + str(mega_df[\"radiant_win\"].count()))\n",
    "print(\"Radiant Wins: \" + str(mega_df[\"radiant_win\"].sum()))\n",
    "print(\"Dire Wins: \" + str(mega_df[\"radiant_win\"].count() - mega_df[\"radiant_win\"].sum()))\n",
    "print(\"Radiant Winrate: \" + str(mega_df[\"radiant_win\"].sum() / mega_df[\"radiant_win\"].count()))\n",
    "print(\"Dire Winrate: \" + str((mega_df[\"radiant_win\"].count() - mega_df[\"radiant_win\"].sum()) / mega_df[\"radiant_win\"].count()))"
   ]
  },
  {
   "cell_type": "markdown",
   "metadata": {},
   "source": [
    "Here I wanted to figure out what all of the game_mode codes were. I used Dotabuff.com (https://dotabuff.com) to manually cross-reference these matches by match ID to see what they said the game mode was. \n",
    "* Mode 1: All Pick (tournaments?)\n",
    "* Mode 2: Captain's Mode (tournaments)\n",
    "* Mode 3: Random Draft\n",
    "* Mode 4: Single Draft\n",
    "* Mode 5: All Random\n",
    "* Mode 16: Captain's Draft\n",
    "* Mode 22: All Pick  \n",
    "The most commonly-played match type is All Pick, it's basically \"default\". Seems like there's a separate code for tournament All Pick, which is probably because tournament lobbies can choose to use the older version of All Pick with a different drafting and banning order. Captain's mode is the default game mode for professionals, while Captain's Draft is a lesser-played similar mode."
   ]
  },
  {
   "cell_type": "code",
   "execution_count": 14,
   "metadata": {},
   "outputs": [
    {
     "data": {
      "text/plain": [
       "array([22,  3,  4,  2,  5,  1, 16], dtype=int64)"
      ]
     },
     "execution_count": 14,
     "metadata": {},
     "output_type": "execute_result"
    }
   ],
   "source": [
    "mega_df[\"game_mode\"].unique()\n"
   ]
  },
  {
   "cell_type": "code",
   "execution_count": 15,
   "metadata": {},
   "outputs": [
    {
     "data": {
      "text/html": [
       "<div>\n",
       "<style scoped>\n",
       "    .dataframe tbody tr th:only-of-type {\n",
       "        vertical-align: middle;\n",
       "    }\n",
       "\n",
       "    .dataframe tbody tr th {\n",
       "        vertical-align: top;\n",
       "    }\n",
       "\n",
       "    .dataframe thead th {\n",
       "        text-align: right;\n",
       "    }\n",
       "</style>\n",
       "<table border=\"1\" class=\"dataframe\">\n",
       "  <thead>\n",
       "    <tr style=\"text-align: right;\">\n",
       "      <th></th>\n",
       "      <th>match_id</th>\n",
       "      <th>match_seq_num</th>\n",
       "      <th>radiant_win</th>\n",
       "      <th>start_time</th>\n",
       "      <th>duration</th>\n",
       "      <th>avg_mmr</th>\n",
       "      <th>num_mmr</th>\n",
       "      <th>lobby_type</th>\n",
       "      <th>game_mode</th>\n",
       "      <th>avg_rank_tier</th>\n",
       "      <th>num_rank_tier</th>\n",
       "      <th>cluster</th>\n",
       "    </tr>\n",
       "  </thead>\n",
       "  <tbody>\n",
       "    <tr>\n",
       "      <th>11867</th>\n",
       "      <td>6544247801</td>\n",
       "      <td>5466612590</td>\n",
       "      <td>False</td>\n",
       "      <td>1651086216</td>\n",
       "      <td>3419</td>\n",
       "      <td>2626.0</td>\n",
       "      <td>4.0</td>\n",
       "      <td>1</td>\n",
       "      <td>1</td>\n",
       "      <td>36</td>\n",
       "      <td>9</td>\n",
       "      <td>274</td>\n",
       "    </tr>\n",
       "  </tbody>\n",
       "</table>\n",
       "</div>"
      ],
      "text/plain": [
       "         match_id  match_seq_num  radiant_win  start_time  duration  avg_mmr  \\\n",
       "11867  6544247801     5466612590        False  1651086216      3419   2626.0   \n",
       "\n",
       "       num_mmr  lobby_type  game_mode  avg_rank_tier  num_rank_tier  cluster  \n",
       "11867      4.0           1          1             36              9      274  "
      ]
     },
     "execution_count": 15,
     "metadata": {},
     "output_type": "execute_result"
    }
   ],
   "source": [
    "mega_df[mega_df[\"game_mode\"] == 1].sample(1) # repeated with the above unique values to get sample matchids for manual checking."
   ]
  },
  {
   "cell_type": "markdown",
   "metadata": {},
   "source": [
    "I did the same thing with lobby types below. \n",
    "* Type 0: Normal Lobby\n",
    "* Type 1: League Lobby\n",
    "* Type 7: Ranked Lobby\n",
    "* Type 9: Battle Cup  \n",
    "Normal lobbies match similarly-skilled players. League lobbies are tournament matches with arbitrary players, generally professionals. Ranked lobbies are ranked matchmaking, where players with similar MMR are matched together to battle for MMR. Battle cup is a weekly special gamemode where players can get matched into tournaments with other teams. "
   ]
  },
  {
   "cell_type": "code",
   "execution_count": 16,
   "metadata": {},
   "outputs": [
    {
     "data": {
      "text/plain": [
       "array([7, 0, 1, 9], dtype=int64)"
      ]
     },
     "execution_count": 16,
     "metadata": {},
     "output_type": "execute_result"
    }
   ],
   "source": [
    "mega_df[\"lobby_type\"].unique()"
   ]
  },
  {
   "cell_type": "code",
   "execution_count": 17,
   "metadata": {},
   "outputs": [
    {
     "data": {
      "text/html": [
       "<div>\n",
       "<style scoped>\n",
       "    .dataframe tbody tr th:only-of-type {\n",
       "        vertical-align: middle;\n",
       "    }\n",
       "\n",
       "    .dataframe tbody tr th {\n",
       "        vertical-align: top;\n",
       "    }\n",
       "\n",
       "    .dataframe thead th {\n",
       "        text-align: right;\n",
       "    }\n",
       "</style>\n",
       "<table border=\"1\" class=\"dataframe\">\n",
       "  <thead>\n",
       "    <tr style=\"text-align: right;\">\n",
       "      <th></th>\n",
       "      <th>match_id</th>\n",
       "      <th>match_seq_num</th>\n",
       "      <th>radiant_win</th>\n",
       "      <th>start_time</th>\n",
       "      <th>duration</th>\n",
       "      <th>avg_mmr</th>\n",
       "      <th>num_mmr</th>\n",
       "      <th>lobby_type</th>\n",
       "      <th>game_mode</th>\n",
       "      <th>avg_rank_tier</th>\n",
       "      <th>num_rank_tier</th>\n",
       "      <th>cluster</th>\n",
       "    </tr>\n",
       "  </thead>\n",
       "  <tbody>\n",
       "    <tr>\n",
       "      <th>119779</th>\n",
       "      <td>6546060619</td>\n",
       "      <td>5468208937</td>\n",
       "      <td>False</td>\n",
       "      <td>1651208346</td>\n",
       "      <td>2901</td>\n",
       "      <td>2928.0</td>\n",
       "      <td>1.0</td>\n",
       "      <td>0</td>\n",
       "      <td>22</td>\n",
       "      <td>41</td>\n",
       "      <td>5</td>\n",
       "      <td>145</td>\n",
       "    </tr>\n",
       "  </tbody>\n",
       "</table>\n",
       "</div>"
      ],
      "text/plain": [
       "          match_id  match_seq_num  radiant_win  start_time  duration  avg_mmr  \\\n",
       "119779  6546060619     5468208937        False  1651208346      2901   2928.0   \n",
       "\n",
       "        num_mmr  lobby_type  game_mode  avg_rank_tier  num_rank_tier  cluster  \n",
       "119779      1.0           0         22             41              5      145  "
      ]
     },
     "execution_count": 17,
     "metadata": {},
     "output_type": "execute_result"
    }
   ],
   "source": [
    "mega_df[mega_df[\"lobby_type\"] == 0].sample(1) # repeated with the above unique values to get sample matchids for manual checking."
   ]
  },
  {
   "cell_type": "markdown",
   "metadata": {},
   "source": [
    "Here's where I figured out what \"cluster\" was. First I looked at the unique values and saw there were over 20 of them. Hypothesized that they had to do with some database shenanigans."
   ]
  },
  {
   "cell_type": "code",
   "execution_count": 18,
   "metadata": {},
   "outputs": [
    {
     "data": {
      "text/plain": [
       "array([193, 251, 152, 227, 188, 182, 184, 185, 273, 192, 187, 236, 121,\n",
       "       274, 186, 181, 183, 241, 191, 155, 346, 156, 201, 154, 231, 225,\n",
       "       153, 122, 232, 202, 151, 145, 161, 223, 144, 117, 261, 203, 118,\n",
       "       214, 271, 171, 347, 213, 172], dtype=int64)"
      ]
     },
     "execution_count": 18,
     "metadata": {},
     "output_type": "execute_result"
    }
   ],
   "source": [
    "mega_df[\"cluster\"].unique()"
   ]
  },
  {
   "cell_type": "markdown",
   "metadata": {},
   "source": [
    "I imported `matplotlib.pyplot` to do some visualization and try and figure out what clusters looked liked."
   ]
  },
  {
   "cell_type": "code",
   "execution_count": 19,
   "metadata": {},
   "outputs": [],
   "source": [
    "import matplotlib.pyplot as plt"
   ]
  },
  {
   "cell_type": "code",
   "execution_count": 20,
   "metadata": {},
   "outputs": [
    {
     "data": {
      "image/png": "[encoded data removed]",
      "text/plain": [
       "<Figure size 432x288 with 1 Axes>"
      ]
     },
     "metadata": {
      "needs_background": "light"
     },
     "output_type": "display_data"
    }
   ],
   "source": [
    "fig, ax = plt.subplots()\n",
    "for cluster, group in mega_df.groupby(\"cluster\"):\n",
    "    ax = group.plot(\"cluster\", \"match_seq_num\", kind=\"scatter\", ax=ax)\n",
    "# aight I'm kinda interested in cluster 1 but otherwise it looks like these don't have anything to do with match sequence"
   ]
  },
  {
   "cell_type": "markdown",
   "metadata": {},
   "source": [
    "I later remembered the .hist plot, which would have made more sense. Anyway, here I plotted the cluster number against the match sequence number. If the database was making the clusters, I assumed they would be related to time and thus related to the sequence that matches became available. There was absolutely no useful correlation, so time for a new hypothesis. I checked out that \"1\" cluster that we can see on the left of the graph on Dotabuff. (While rerunning the notebook to submit, that row somehow disappeared. Trust me, there was one row with cluster of 1)"
   ]
  },
  {
   "cell_type": "code",
   "execution_count": 21,
   "metadata": {},
   "outputs": [
    {
     "data": {
      "text/html": [
       "<div>\n",
       "<style scoped>\n",
       "    .dataframe tbody tr th:only-of-type {\n",
       "        vertical-align: middle;\n",
       "    }\n",
       "\n",
       "    .dataframe tbody tr th {\n",
       "        vertical-align: top;\n",
       "    }\n",
       "\n",
       "    .dataframe thead th {\n",
       "        text-align: right;\n",
       "    }\n",
       "</style>\n",
       "<table border=\"1\" class=\"dataframe\">\n",
       "  <thead>\n",
       "    <tr style=\"text-align: right;\">\n",
       "      <th></th>\n",
       "      <th>match_id</th>\n",
       "      <th>match_seq_num</th>\n",
       "      <th>radiant_win</th>\n",
       "      <th>start_time</th>\n",
       "      <th>duration</th>\n",
       "      <th>avg_mmr</th>\n",
       "      <th>num_mmr</th>\n",
       "      <th>lobby_type</th>\n",
       "      <th>game_mode</th>\n",
       "      <th>avg_rank_tier</th>\n",
       "      <th>num_rank_tier</th>\n",
       "      <th>cluster</th>\n",
       "    </tr>\n",
       "  </thead>\n",
       "  <tbody>\n",
       "  </tbody>\n",
       "</table>\n",
       "</div>"
      ],
      "text/plain": [
       "Empty DataFrame\n",
       "Columns: [match_id, match_seq_num, radiant_win, start_time, duration, avg_mmr, num_mmr, lobby_type, game_mode, avg_rank_tier, num_rank_tier, cluster]\n",
       "Index: []"
      ]
     },
     "execution_count": 21,
     "metadata": {},
     "output_type": "execute_result"
    }
   ],
   "source": [
    "mega_df[mega_df[\"cluster\"] == 1]"
   ]
  },
  {
   "cell_type": "markdown",
   "metadata": {},
   "source": [
    "Turned out that the region for that match was \"Unknown\", which made me think it might be region. Spat out a match for each cluster value and they all seemed to correlate perfectly with the regions Dotabuff gave for the matchIDs. Used that to manually figure out the regions for each cluster (listed in the comments of the code below, the markdown would take way too much space with line spacing)"
   ]
  },
  {
   "cell_type": "code",
   "execution_count": 22,
   "metadata": {},
   "outputs": [
    {
     "name": "stdout",
     "output_type": "stream",
     "text": [
      "Cluster: 193\tMatch: 6545870501\n",
      "Cluster: 251\tMatch: 6547564915\n",
      "Cluster: 152\tMatch: 6544846202\n",
      "Cluster: 227\tMatch: 6544689312\n",
      "Cluster: 188\tMatch: 6548612418\n",
      "Cluster: 182\tMatch: 6546863112\n",
      "Cluster: 184\tMatch: 6548934505\n",
      "Cluster: 185\tMatch: 6545188316\n",
      "Cluster: 273\tMatch: 6548151705\n",
      "Cluster: 192\tMatch: 6545613602\n",
      "Cluster: 187\tMatch: 6546849507\n",
      "Cluster: 236\tMatch: 6546620816\n",
      "Cluster: 121\tMatch: 6546963217\n",
      "Cluster: 274\tMatch: 6548616101\n",
      "Cluster: 186\tMatch: 6545053319\n",
      "Cluster: 181\tMatch: 6546262602\n",
      "Cluster: 183\tMatch: 6544949515\n",
      "Cluster: 241\tMatch: 6547124408\n",
      "Cluster: 191\tMatch: 6547129101\n",
      "Cluster: 155\tMatch: 6548701604\n",
      "Cluster: 346\tMatch: 6548957814\n",
      "Cluster: 156\tMatch: 6546221103\n",
      "Cluster: 201\tMatch: 6545294812\n",
      "Cluster: 154\tMatch: 6544089910\n",
      "Cluster: 231\tMatch: 6544932407\n",
      "Cluster: 225\tMatch: 6544865101\n",
      "Cluster: 153\tMatch: 6546789808\n",
      "Cluster: 122\tMatch: 6544269003\n",
      "Cluster: 232\tMatch: 6545128815\n",
      "Cluster: 202\tMatch: 6548934900\n",
      "Cluster: 151\tMatch: 6545975206\n",
      "Cluster: 145\tMatch: 6548467017\n",
      "Cluster: 161\tMatch: 6545202705\n",
      "Cluster: 223\tMatch: 6547490607\n",
      "Cluster: 144\tMatch: 6548284109\n",
      "Cluster: 117\tMatch: 6547440313\n",
      "Cluster: 261\tMatch: 6545599218\n",
      "Cluster: 203\tMatch: 6547519714\n",
      "Cluster: 118\tMatch: 6548789804\n",
      "Cluster: 214\tMatch: 6547216411\n",
      "Cluster: 271\tMatch: 6545342713\n",
      "Cluster: 171\tMatch: 6544439115\n",
      "Cluster: 347\tMatch: 6548614205\n",
      "Cluster: 213\tMatch: 6547799714\n",
      "Cluster: 172\tMatch: 6548271401\n"
     ]
    }
   ],
   "source": [
    "for cluster in mega_df[\"cluster\"].unique():\n",
    "    match = mega_df[mega_df[\"cluster\"] == cluster].sample(1)[\"match_id\"].values[0]\n",
    "    print(\"Cluster: {cluster:n}\\tMatch: {match:n}\".format(cluster=cluster, match=match))\n",
    "# I sampled four of these and they were all in Peru, so it seems likely that cluster describes region\n",
    "# Cluster 1 is Unknown\n",
    "# Cluster 251 is Peru\n",
    "# Cluster 236 is China\n",
    "# Cluster 144 is South Korea\n",
    "# Cluster 184 is Russia\n",
    "# Cluster 155 is SE Asia\n",
    "# Cluster 117 is US West\n",
    "# Cluster 273 is Europe\n",
    "# Cluster 156 is SE Asia (dupe 155)\n",
    "# Cluster 121 is US East\n",
    "# Cluster 182 is Russia (dupe 184)\n",
    "# Cluster 225 is China (dupe 236)\n",
    "# Cluster 118 is US West (dupe 117)\n",
    "# Cluster 227 is China (dupe 236)\n",
    "# Cluster 153 is SE Asia (dupe 155)\n",
    "# Cluster 122 is US East (dupe 121)\n",
    "# Cluster 181 is Russia (dupe 184)\n",
    "# Cluster 241 is Chile\n",
    "# Cluster 151 is SE Asia (dupe 155)\n",
    "# Cluster 346 is Unknown\n",
    "# Cluster 154 is SE Asia (dupe 155)\n",
    "# Cluster 152 is SE Asia (dupe 155)\n",
    "# Cluster 274 is Europe (dupe 273)\n",
    "# Cluster 232 is China (dupe 236)\n",
    "# Cluster 201 is South America\n",
    "# Cluster 185 is Russia (dupe 184)\n",
    "# Cluster 223 is China (dupe 236)\n",
    "# Cluster 188 is Russia (dupe 184)\n",
    "# Cluster 202 is South America (dupe 201)\n",
    "# Cluster 172 is Australia\n",
    "# Cluster 186 is Russia (dupe 184)\n",
    "# Cluster 347 is Unknown\n",
    "# Cluster 231 is China (dupe 236)\n",
    "# Cluster 187 is Russia (dupe 184)\n",
    "# Cluster 203 is South America (dupe 201)\n",
    "# Cluster 171 is Australia (dupe 172)\n",
    "# Cluster 145 is South Korea (dupe 144)\n",
    "# Cluster 183 is Russia (dupe 184)\n",
    "# Cluster 271 is Europe (273)\n",
    "# Cluster 192 is Europe East\n",
    "# Cluster 191 is Europe East (dupe 192)\n",
    "# Cluster 193 is Europe East (dupe 192)\n",
    "# Cluster 213 is South Africa\n",
    "# Cluster 161 is Dubai\n",
    "# Cluster 261 is India\n",
    "# Cluster 214 is South Africa (dupe 213)"
   ]
  },
  {
   "cell_type": "markdown",
   "metadata": {},
   "source": [
    "I imported `re` because I wanted to parse my manually-scribed data into a dict so I could use it to create a region column. I copied and pasted the comments from the above code block into a multi-line string, parsed the lines for cluster number and region, and mapped the two together in a dict."
   ]
  },
  {
   "cell_type": "code",
   "execution_count": 23,
   "metadata": {},
   "outputs": [],
   "source": [
    "import re\n",
    "\n",
    "# I manually checked all of those regions in Dotabuff (an online tool for Dota 2 data and statistics)\n",
    "region_string= \"\"\"# Cluster 1 is Unknown\n",
    "# Cluster 251 is Peru\n",
    "# Cluster 236 is China\n",
    "# Cluster 144 is South Korea\n",
    "# Cluster 184 is Russia\n",
    "# Cluster 155 is SE Asia\n",
    "# Cluster 117 is US West\n",
    "# Cluster 273 is Europe\n",
    "# Cluster 156 is SE Asia\n",
    "# Cluster 121 is US East\n",
    "# Cluster 182 is Russia\n",
    "# Cluster 225 is China\n",
    "# Cluster 118 is US West\n",
    "# Cluster 227 is China\n",
    "# Cluster 153 is SE Asia\n",
    "# Cluster 122 is US East\n",
    "# Cluster 181 is Russia\n",
    "# Cluster 241 is Chile\n",
    "# Cluster 151 is SE Asia\n",
    "# Cluster 346 is Unknown\n",
    "# Cluster 154 is SE Asia\n",
    "# Cluster 152 is SE Asia\n",
    "# Cluster 274 is Europe\n",
    "# Cluster 232 is China\n",
    "# Cluster 201 is South America\n",
    "# Cluster 185 is Russia\n",
    "# Cluster 223 is China\n",
    "# Cluster 188 is Russia\n",
    "# Cluster 202 is South America\n",
    "# Cluster 172 is Australia\n",
    "# Cluster 186 is Russia\n",
    "# Cluster 347 is Unknown\n",
    "# Cluster 231 is China\n",
    "# Cluster 187 is Russia\n",
    "# Cluster 203 is South America\n",
    "# Cluster 171 is Australia\n",
    "# Cluster 145 is South Korea\n",
    "# Cluster 183 is Russia\n",
    "# Cluster 271 is Europe\n",
    "# Cluster 192 is Europe East\n",
    "# Cluster 191 is Europe East\n",
    "# Cluster 193 is Europe East\n",
    "# Cluster 213 is South Africa\n",
    "# Cluster 161 is Dubai\n",
    "# Cluster 261 is India\n",
    "# Cluster 214 is South Africa\"\"\"\n",
    "\n",
    "cluster_regions = {}\n",
    "region_lines = region_string.splitlines()\n",
    "for line in region_lines:\n",
    "    search = re.search(r\"(?P<cluster>\\d{1,3}) is (?P<location>.+)\", line)\n",
    "    cluster = search.group(\"cluster\")\n",
    "    location = search.group(\"location\")\n",
    "    cluster_regions[cluster] = location"
   ]
  },
  {
   "cell_type": "markdown",
   "metadata": {},
   "source": [
    "Now we can see the region for each cluster number in this dict."
   ]
  },
  {
   "cell_type": "code",
   "execution_count": 24,
   "metadata": {},
   "outputs": [
    {
     "data": {
      "text/plain": [
       "{'1': 'Unknown',\n",
       " '251': 'Peru',\n",
       " '236': 'China',\n",
       " '144': 'South Korea',\n",
       " '184': 'Russia',\n",
       " '155': 'SE Asia',\n",
       " '117': 'US West',\n",
       " '273': 'Europe',\n",
       " '156': 'SE Asia',\n",
       " '121': 'US East',\n",
       " '182': 'Russia',\n",
       " '225': 'China',\n",
       " '118': 'US West',\n",
       " '227': 'China',\n",
       " '153': 'SE Asia',\n",
       " '122': 'US East',\n",
       " '181': 'Russia',\n",
       " '241': 'Chile',\n",
       " '151': 'SE Asia',\n",
       " '346': 'Unknown',\n",
       " '154': 'SE Asia',\n",
       " '152': 'SE Asia',\n",
       " '274': 'Europe',\n",
       " '232': 'China',\n",
       " '201': 'South America',\n",
       " '185': 'Russia',\n",
       " '223': 'China',\n",
       " '188': 'Russia',\n",
       " '202': 'South America',\n",
       " '172': 'Australia',\n",
       " '186': 'Russia',\n",
       " '347': 'Unknown',\n",
       " '231': 'China',\n",
       " '187': 'Russia',\n",
       " '203': 'South America',\n",
       " '171': 'Australia',\n",
       " '145': 'South Korea',\n",
       " '183': 'Russia',\n",
       " '271': 'Europe',\n",
       " '192': 'Europe East',\n",
       " '191': 'Europe East',\n",
       " '193': 'Europe East',\n",
       " '213': 'South Africa',\n",
       " '161': 'Dubai',\n",
       " '261': 'India',\n",
       " '214': 'South Africa'}"
      ]
     },
     "execution_count": 24,
     "metadata": {},
     "output_type": "execute_result"
    }
   ],
   "source": [
    "cluster_regions"
   ]
  },
  {
   "cell_type": "markdown",
   "metadata": {},
   "source": [
    "Here I am iterating through two million rows of a dataframe to map this stuff. Does pandas have an amazing and idiomatic way to do this? Certainly. Do I have the time to look it up? Certainly not. Code takes around 2-3 minutes to run but it does the job and it's only gotta do it once."
   ]
  },
  {
   "cell_type": "code",
   "execution_count": 25,
   "metadata": {},
   "outputs": [],
   "source": [
    "region = []\n",
    "for index, row in mega_df.iterrows():\n",
    "    region.append(cluster_regions[str(int(row[\"cluster\"]))])\n",
    "# mega_df[\"region\"] = cluster_regions[mega_df[\"cluster\"].as_int().as_str()]"
   ]
  },
  {
   "cell_type": "code",
   "execution_count": 26,
   "metadata": {},
   "outputs": [
    {
     "data": {
      "text/html": [
       "<div>\n",
       "<style scoped>\n",
       "    .dataframe tbody tr th:only-of-type {\n",
       "        vertical-align: middle;\n",
       "    }\n",
       "\n",
       "    .dataframe tbody tr th {\n",
       "        vertical-align: top;\n",
       "    }\n",
       "\n",
       "    .dataframe thead th {\n",
       "        text-align: right;\n",
       "    }\n",
       "</style>\n",
       "<table border=\"1\" class=\"dataframe\">\n",
       "  <thead>\n",
       "    <tr style=\"text-align: right;\">\n",
       "      <th></th>\n",
       "      <th>match_id</th>\n",
       "      <th>match_seq_num</th>\n",
       "      <th>radiant_win</th>\n",
       "      <th>start_time</th>\n",
       "      <th>duration</th>\n",
       "      <th>avg_mmr</th>\n",
       "      <th>num_mmr</th>\n",
       "      <th>lobby_type</th>\n",
       "      <th>game_mode</th>\n",
       "      <th>avg_rank_tier</th>\n",
       "      <th>num_rank_tier</th>\n",
       "      <th>cluster</th>\n",
       "      <th>region</th>\n",
       "    </tr>\n",
       "  </thead>\n",
       "  <tbody>\n",
       "    <tr>\n",
       "      <th>129264</th>\n",
       "      <td>6546234516</td>\n",
       "      <td>5468361763</td>\n",
       "      <td>False</td>\n",
       "      <td>1651221705</td>\n",
       "      <td>2309</td>\n",
       "      <td>1168.0</td>\n",
       "      <td>1.0</td>\n",
       "      <td>7</td>\n",
       "      <td>22</td>\n",
       "      <td>24</td>\n",
       "      <td>3</td>\n",
       "      <td>182</td>\n",
       "      <td>Russia</td>\n",
       "    </tr>\n",
       "    <tr>\n",
       "      <th>235566</th>\n",
       "      <td>6548110111</td>\n",
       "      <td>5470031033</td>\n",
       "      <td>False</td>\n",
       "      <td>1651321859</td>\n",
       "      <td>2522</td>\n",
       "      <td>NaN</td>\n",
       "      <td>NaN</td>\n",
       "      <td>7</td>\n",
       "      <td>22</td>\n",
       "      <td>13</td>\n",
       "      <td>3</td>\n",
       "      <td>188</td>\n",
       "      <td>Russia</td>\n",
       "    </tr>\n",
       "    <tr>\n",
       "      <th>197067</th>\n",
       "      <td>6547387408</td>\n",
       "      <td>5469376043</td>\n",
       "      <td>True</td>\n",
       "      <td>1651279966</td>\n",
       "      <td>1922</td>\n",
       "      <td>NaN</td>\n",
       "      <td>NaN</td>\n",
       "      <td>7</td>\n",
       "      <td>22</td>\n",
       "      <td>33</td>\n",
       "      <td>5</td>\n",
       "      <td>192</td>\n",
       "      <td>Europe East</td>\n",
       "    </tr>\n",
       "    <tr>\n",
       "      <th>274583</th>\n",
       "      <td>6548786510</td>\n",
       "      <td>5470629116</td>\n",
       "      <td>False</td>\n",
       "      <td>1651347218</td>\n",
       "      <td>2922</td>\n",
       "      <td>3513.0</td>\n",
       "      <td>3.0</td>\n",
       "      <td>7</td>\n",
       "      <td>22</td>\n",
       "      <td>53</td>\n",
       "      <td>6</td>\n",
       "      <td>273</td>\n",
       "      <td>Europe</td>\n",
       "    </tr>\n",
       "    <tr>\n",
       "      <th>177745</th>\n",
       "      <td>6547109613</td>\n",
       "      <td>5469125705</td>\n",
       "      <td>False</td>\n",
       "      <td>1651259414</td>\n",
       "      <td>2309</td>\n",
       "      <td>2506.0</td>\n",
       "      <td>1.0</td>\n",
       "      <td>7</td>\n",
       "      <td>22</td>\n",
       "      <td>34</td>\n",
       "      <td>4</td>\n",
       "      <td>184</td>\n",
       "      <td>Russia</td>\n",
       "    </tr>\n",
       "  </tbody>\n",
       "</table>\n",
       "</div>"
      ],
      "text/plain": [
       "          match_id  match_seq_num  radiant_win  start_time  duration  avg_mmr  \\\n",
       "129264  6546234516     5468361763        False  1651221705      2309   1168.0   \n",
       "235566  6548110111     5470031033        False  1651321859      2522      NaN   \n",
       "197067  6547387408     5469376043         True  1651279966      1922      NaN   \n",
       "274583  6548786510     5470629116        False  1651347218      2922   3513.0   \n",
       "177745  6547109613     5469125705        False  1651259414      2309   2506.0   \n",
       "\n",
       "        num_mmr  lobby_type  game_mode  avg_rank_tier  num_rank_tier  cluster  \\\n",
       "129264      1.0           7         22             24              3      182   \n",
       "235566      NaN           7         22             13              3      188   \n",
       "197067      NaN           7         22             33              5      192   \n",
       "274583      3.0           7         22             53              6      273   \n",
       "177745      1.0           7         22             34              4      184   \n",
       "\n",
       "             region  \n",
       "129264       Russia  \n",
       "235566       Russia  \n",
       "197067  Europe East  \n",
       "274583       Europe  \n",
       "177745       Russia  "
      ]
     },
     "execution_count": 26,
     "metadata": {},
     "output_type": "execute_result"
    }
   ],
   "source": [
    "mega_df[\"region\"] = region\n",
    "mega_df.sample(5)"
   ]
  },
  {
   "cell_type": "markdown",
   "metadata": {},
   "source": [
    "Now I turned my attention to num_mmr. No idea what it was, but here's me checking its relation to other data to try and figure it out."
   ]
  },
  {
   "cell_type": "code",
   "execution_count": 27,
   "metadata": {},
   "outputs": [
    {
     "data": {
      "text/plain": [
       "<AxesSubplot:xlabel='avg_mmr', ylabel='num_mmr'>"
      ]
     },
     "execution_count": 27,
     "metadata": {},
     "output_type": "execute_result"
    },
    {
     "data": {
      "image/png": "[encoded data removed]",
      "text/plain": [
       "<Figure size 432x288 with 1 Axes>"
      ]
     },
     "metadata": {
      "needs_background": "light"
     },
     "output_type": "display_data"
    }
   ],
   "source": [
    "# probably the number of players with a rank that it's calculating from? nope.\n",
    "# let me see if num_mmr is correlated with avg_mmr to get a hint\n",
    "sample = mega_df.sample(1000)\n",
    "sample.plot(\"avg_mmr\", \"num_mmr\", kind=\"scatter\")"
   ]
  },
  {
   "cell_type": "code",
   "execution_count": 28,
   "metadata": {},
   "outputs": [
    {
     "data": {
      "text/plain": [
       "287"
      ]
     },
     "execution_count": 28,
     "metadata": {},
     "output_type": "execute_result"
    },
    {
     "data": {
      "image/png": "[encoded data removed]",
      "text/plain": [
       "<Figure size 432x288 with 1 Axes>"
      ]
     },
     "metadata": {
      "needs_background": "light"
     },
     "output_type": "display_data"
    }
   ],
   "source": [
    "# okay this is interesting. I know the underlying distribution of mmr is roughly normal. \n",
    "# So almost any level of match can be a \"num_mmr\" 1 match\n",
    "# I think I need to know the distribution of these num_mmrs\n",
    "sample[\"num_mmr\"].value_counts().plot(kind=\"bar\")\n",
    "sample[\"num_mmr\"].isna().sum()"
   ]
  },
  {
   "cell_type": "code",
   "execution_count": 29,
   "metadata": {},
   "outputs": [
    {
     "data": {
      "text/plain": [
       "<AxesSubplot:xlabel='num_mmr', ylabel='duration'>"
      ]
     },
     "execution_count": 29,
     "metadata": {},
     "output_type": "execute_result"
    },
    {
     "data": {
      "image/png": "[encoded data removed]",
      "text/plain": [
       "<Figure size 432x288 with 1 Axes>"
      ]
     },
     "metadata": {
      "needs_background": "light"
     },
     "output_type": "display_data"
    }
   ],
   "source": [
    "# interesting. So it's... I can't really think of a quantity this is likely to represent based on how it correlates with mmr.\n",
    "# maybe it has something to do with smurf detection?\n",
    "# or maybe rank spread (higher spread = bigger number?) so far doesn't seem related to spread\n",
    "# let's see if there's a relationship with match time. smurfs usually have shorter matches because they stomp\n",
    "sample.plot(\"num_mmr\", \"duration\", kind=\"scatter\")"
   ]
  },
  {
   "cell_type": "code",
   "execution_count": 30,
   "metadata": {},
   "outputs": [
    {
     "data": {
      "text/plain": [
       "<AxesSubplot:xlabel='num_mmr', ylabel='duration'>"
      ]
     },
     "execution_count": 30,
     "metadata": {},
     "output_type": "execute_result"
    },
    {
     "data": {
      "image/png": "[encoded data removed]",
      "text/plain": [
       "<Figure size 432x288 with 1 Axes>"
      ]
     },
     "metadata": {
      "needs_background": "light"
     },
     "output_type": "display_data"
    }
   ],
   "source": [
    "# need a bigger sample\n",
    "sample2 = mega_df.sample(5000)\n",
    "sample2.plot(\"num_mmr\", \"duration\", kind=\"scatter\")"
   ]
  },
  {
   "cell_type": "code",
   "execution_count": 31,
   "metadata": {},
   "outputs": [
    {
     "data": {
      "text/html": [
       "<div>\n",
       "<style scoped>\n",
       "    .dataframe tbody tr th:only-of-type {\n",
       "        vertical-align: middle;\n",
       "    }\n",
       "\n",
       "    .dataframe tbody tr th {\n",
       "        vertical-align: top;\n",
       "    }\n",
       "\n",
       "    .dataframe thead th {\n",
       "        text-align: right;\n",
       "    }\n",
       "</style>\n",
       "<table border=\"1\" class=\"dataframe\">\n",
       "  <thead>\n",
       "    <tr style=\"text-align: right;\">\n",
       "      <th></th>\n",
       "      <th>match_id</th>\n",
       "      <th>match_seq_num</th>\n",
       "      <th>radiant_win</th>\n",
       "      <th>start_time</th>\n",
       "      <th>duration</th>\n",
       "      <th>avg_mmr</th>\n",
       "      <th>num_mmr</th>\n",
       "      <th>lobby_type</th>\n",
       "      <th>game_mode</th>\n",
       "      <th>avg_rank_tier</th>\n",
       "      <th>num_rank_tier</th>\n",
       "      <th>cluster</th>\n",
       "      <th>region</th>\n",
       "    </tr>\n",
       "  </thead>\n",
       "  <tbody>\n",
       "    <tr>\n",
       "      <th>124982</th>\n",
       "      <td>6546156010</td>\n",
       "      <td>5468295617</td>\n",
       "      <td>True</td>\n",
       "      <td>1651216280</td>\n",
       "      <td>2018</td>\n",
       "      <td>5778.0</td>\n",
       "      <td>10.0</td>\n",
       "      <td>1</td>\n",
       "      <td>2</td>\n",
       "      <td>80</td>\n",
       "      <td>10</td>\n",
       "      <td>155</td>\n",
       "      <td>SE Asia</td>\n",
       "    </tr>\n",
       "    <tr>\n",
       "      <th>191249</th>\n",
       "      <td>6547301017</td>\n",
       "      <td>5469305678</td>\n",
       "      <td>True</td>\n",
       "      <td>1651271086</td>\n",
       "      <td>2427</td>\n",
       "      <td>3215.0</td>\n",
       "      <td>10.0</td>\n",
       "      <td>1</td>\n",
       "      <td>2</td>\n",
       "      <td>58</td>\n",
       "      <td>10</td>\n",
       "      <td>122</td>\n",
       "      <td>US East</td>\n",
       "    </tr>\n",
       "    <tr>\n",
       "      <th>197646</th>\n",
       "      <td>6547392407</td>\n",
       "      <td>5469391006</td>\n",
       "      <td>True</td>\n",
       "      <td>1651280876</td>\n",
       "      <td>2096</td>\n",
       "      <td>3846.0</td>\n",
       "      <td>10.0</td>\n",
       "      <td>1</td>\n",
       "      <td>2</td>\n",
       "      <td>79</td>\n",
       "      <td>10</td>\n",
       "      <td>121</td>\n",
       "      <td>US East</td>\n",
       "    </tr>\n",
       "    <tr>\n",
       "      <th>199719</th>\n",
       "      <td>6547431506</td>\n",
       "      <td>5469446011</td>\n",
       "      <td>False</td>\n",
       "      <td>1651284269</td>\n",
       "      <td>2918</td>\n",
       "      <td>3846.0</td>\n",
       "      <td>10.0</td>\n",
       "      <td>1</td>\n",
       "      <td>2</td>\n",
       "      <td>79</td>\n",
       "      <td>10</td>\n",
       "      <td>122</td>\n",
       "      <td>US East</td>\n",
       "    </tr>\n",
       "    <tr>\n",
       "      <th>266704</th>\n",
       "      <td>6548663103</td>\n",
       "      <td>5470517693</td>\n",
       "      <td>False</td>\n",
       "      <td>1651341722</td>\n",
       "      <td>2293</td>\n",
       "      <td>4960.0</td>\n",
       "      <td>10.0</td>\n",
       "      <td>9</td>\n",
       "      <td>2</td>\n",
       "      <td>77</td>\n",
       "      <td>10</td>\n",
       "      <td>274</td>\n",
       "      <td>Europe</td>\n",
       "    </tr>\n",
       "    <tr>\n",
       "      <th>124982</th>\n",
       "      <td>6546156010</td>\n",
       "      <td>5468295617</td>\n",
       "      <td>True</td>\n",
       "      <td>1651216280</td>\n",
       "      <td>2018</td>\n",
       "      <td>5778.0</td>\n",
       "      <td>10.0</td>\n",
       "      <td>1</td>\n",
       "      <td>2</td>\n",
       "      <td>80</td>\n",
       "      <td>10</td>\n",
       "      <td>155</td>\n",
       "      <td>SE Asia</td>\n",
       "    </tr>\n",
       "    <tr>\n",
       "      <th>191249</th>\n",
       "      <td>6547301017</td>\n",
       "      <td>5469305678</td>\n",
       "      <td>True</td>\n",
       "      <td>1651271086</td>\n",
       "      <td>2427</td>\n",
       "      <td>3215.0</td>\n",
       "      <td>10.0</td>\n",
       "      <td>1</td>\n",
       "      <td>2</td>\n",
       "      <td>58</td>\n",
       "      <td>10</td>\n",
       "      <td>122</td>\n",
       "      <td>US East</td>\n",
       "    </tr>\n",
       "    <tr>\n",
       "      <th>197646</th>\n",
       "      <td>6547392407</td>\n",
       "      <td>5469391006</td>\n",
       "      <td>True</td>\n",
       "      <td>1651280876</td>\n",
       "      <td>2096</td>\n",
       "      <td>3846.0</td>\n",
       "      <td>10.0</td>\n",
       "      <td>1</td>\n",
       "      <td>2</td>\n",
       "      <td>79</td>\n",
       "      <td>10</td>\n",
       "      <td>121</td>\n",
       "      <td>US East</td>\n",
       "    </tr>\n",
       "    <tr>\n",
       "      <th>199719</th>\n",
       "      <td>6547431506</td>\n",
       "      <td>5469446011</td>\n",
       "      <td>False</td>\n",
       "      <td>1651284269</td>\n",
       "      <td>2918</td>\n",
       "      <td>3846.0</td>\n",
       "      <td>10.0</td>\n",
       "      <td>1</td>\n",
       "      <td>2</td>\n",
       "      <td>79</td>\n",
       "      <td>10</td>\n",
       "      <td>122</td>\n",
       "      <td>US East</td>\n",
       "    </tr>\n",
       "    <tr>\n",
       "      <th>266704</th>\n",
       "      <td>6548663103</td>\n",
       "      <td>5470517693</td>\n",
       "      <td>False</td>\n",
       "      <td>1651341722</td>\n",
       "      <td>2293</td>\n",
       "      <td>4960.0</td>\n",
       "      <td>10.0</td>\n",
       "      <td>9</td>\n",
       "      <td>2</td>\n",
       "      <td>77</td>\n",
       "      <td>10</td>\n",
       "      <td>274</td>\n",
       "      <td>Europe</td>\n",
       "    </tr>\n",
       "    <tr>\n",
       "      <th>124982</th>\n",
       "      <td>6546156010</td>\n",
       "      <td>5468295617</td>\n",
       "      <td>True</td>\n",
       "      <td>1651216280</td>\n",
       "      <td>2018</td>\n",
       "      <td>5778.0</td>\n",
       "      <td>10.0</td>\n",
       "      <td>1</td>\n",
       "      <td>2</td>\n",
       "      <td>80</td>\n",
       "      <td>10</td>\n",
       "      <td>155</td>\n",
       "      <td>SE Asia</td>\n",
       "    </tr>\n",
       "    <tr>\n",
       "      <th>191249</th>\n",
       "      <td>6547301017</td>\n",
       "      <td>5469305678</td>\n",
       "      <td>True</td>\n",
       "      <td>1651271086</td>\n",
       "      <td>2427</td>\n",
       "      <td>3215.0</td>\n",
       "      <td>10.0</td>\n",
       "      <td>1</td>\n",
       "      <td>2</td>\n",
       "      <td>58</td>\n",
       "      <td>10</td>\n",
       "      <td>122</td>\n",
       "      <td>US East</td>\n",
       "    </tr>\n",
       "    <tr>\n",
       "      <th>197646</th>\n",
       "      <td>6547392407</td>\n",
       "      <td>5469391006</td>\n",
       "      <td>True</td>\n",
       "      <td>1651280876</td>\n",
       "      <td>2096</td>\n",
       "      <td>3846.0</td>\n",
       "      <td>10.0</td>\n",
       "      <td>1</td>\n",
       "      <td>2</td>\n",
       "      <td>79</td>\n",
       "      <td>10</td>\n",
       "      <td>121</td>\n",
       "      <td>US East</td>\n",
       "    </tr>\n",
       "    <tr>\n",
       "      <th>199719</th>\n",
       "      <td>6547431506</td>\n",
       "      <td>5469446011</td>\n",
       "      <td>False</td>\n",
       "      <td>1651284269</td>\n",
       "      <td>2918</td>\n",
       "      <td>3846.0</td>\n",
       "      <td>10.0</td>\n",
       "      <td>1</td>\n",
       "      <td>2</td>\n",
       "      <td>79</td>\n",
       "      <td>10</td>\n",
       "      <td>122</td>\n",
       "      <td>US East</td>\n",
       "    </tr>\n",
       "    <tr>\n",
       "      <th>266704</th>\n",
       "      <td>6548663103</td>\n",
       "      <td>5470517693</td>\n",
       "      <td>False</td>\n",
       "      <td>1651341722</td>\n",
       "      <td>2293</td>\n",
       "      <td>4960.0</td>\n",
       "      <td>10.0</td>\n",
       "      <td>9</td>\n",
       "      <td>2</td>\n",
       "      <td>77</td>\n",
       "      <td>10</td>\n",
       "      <td>274</td>\n",
       "      <td>Europe</td>\n",
       "    </tr>\n",
       "    <tr>\n",
       "      <th>124982</th>\n",
       "      <td>6546156010</td>\n",
       "      <td>5468295617</td>\n",
       "      <td>True</td>\n",
       "      <td>1651216280</td>\n",
       "      <td>2018</td>\n",
       "      <td>5778.0</td>\n",
       "      <td>10.0</td>\n",
       "      <td>1</td>\n",
       "      <td>2</td>\n",
       "      <td>80</td>\n",
       "      <td>10</td>\n",
       "      <td>155</td>\n",
       "      <td>SE Asia</td>\n",
       "    </tr>\n",
       "    <tr>\n",
       "      <th>191249</th>\n",
       "      <td>6547301017</td>\n",
       "      <td>5469305678</td>\n",
       "      <td>True</td>\n",
       "      <td>1651271086</td>\n",
       "      <td>2427</td>\n",
       "      <td>3215.0</td>\n",
       "      <td>10.0</td>\n",
       "      <td>1</td>\n",
       "      <td>2</td>\n",
       "      <td>58</td>\n",
       "      <td>10</td>\n",
       "      <td>122</td>\n",
       "      <td>US East</td>\n",
       "    </tr>\n",
       "    <tr>\n",
       "      <th>197646</th>\n",
       "      <td>6547392407</td>\n",
       "      <td>5469391006</td>\n",
       "      <td>True</td>\n",
       "      <td>1651280876</td>\n",
       "      <td>2096</td>\n",
       "      <td>3846.0</td>\n",
       "      <td>10.0</td>\n",
       "      <td>1</td>\n",
       "      <td>2</td>\n",
       "      <td>79</td>\n",
       "      <td>10</td>\n",
       "      <td>121</td>\n",
       "      <td>US East</td>\n",
       "    </tr>\n",
       "    <tr>\n",
       "      <th>199719</th>\n",
       "      <td>6547431506</td>\n",
       "      <td>5469446011</td>\n",
       "      <td>False</td>\n",
       "      <td>1651284269</td>\n",
       "      <td>2918</td>\n",
       "      <td>3846.0</td>\n",
       "      <td>10.0</td>\n",
       "      <td>1</td>\n",
       "      <td>2</td>\n",
       "      <td>79</td>\n",
       "      <td>10</td>\n",
       "      <td>122</td>\n",
       "      <td>US East</td>\n",
       "    </tr>\n",
       "    <tr>\n",
       "      <th>266704</th>\n",
       "      <td>6548663103</td>\n",
       "      <td>5470517693</td>\n",
       "      <td>False</td>\n",
       "      <td>1651341722</td>\n",
       "      <td>2293</td>\n",
       "      <td>4960.0</td>\n",
       "      <td>10.0</td>\n",
       "      <td>9</td>\n",
       "      <td>2</td>\n",
       "      <td>77</td>\n",
       "      <td>10</td>\n",
       "      <td>274</td>\n",
       "      <td>Europe</td>\n",
       "    </tr>\n",
       "  </tbody>\n",
       "</table>\n",
       "</div>"
      ],
      "text/plain": [
       "          match_id  match_seq_num  radiant_win  start_time  duration  avg_mmr  \\\n",
       "124982  6546156010     5468295617         True  1651216280      2018   5778.0   \n",
       "191249  6547301017     5469305678         True  1651271086      2427   3215.0   \n",
       "197646  6547392407     5469391006         True  1651280876      2096   3846.0   \n",
       "199719  6547431506     5469446011        False  1651284269      2918   3846.0   \n",
       "266704  6548663103     5470517693        False  1651341722      2293   4960.0   \n",
       "124982  6546156010     5468295617         True  1651216280      2018   5778.0   \n",
       "191249  6547301017     5469305678         True  1651271086      2427   3215.0   \n",
       "197646  6547392407     5469391006         True  1651280876      2096   3846.0   \n",
       "199719  6547431506     5469446011        False  1651284269      2918   3846.0   \n",
       "266704  6548663103     5470517693        False  1651341722      2293   4960.0   \n",
       "124982  6546156010     5468295617         True  1651216280      2018   5778.0   \n",
       "191249  6547301017     5469305678         True  1651271086      2427   3215.0   \n",
       "197646  6547392407     5469391006         True  1651280876      2096   3846.0   \n",
       "199719  6547431506     5469446011        False  1651284269      2918   3846.0   \n",
       "266704  6548663103     5470517693        False  1651341722      2293   4960.0   \n",
       "124982  6546156010     5468295617         True  1651216280      2018   5778.0   \n",
       "191249  6547301017     5469305678         True  1651271086      2427   3215.0   \n",
       "197646  6547392407     5469391006         True  1651280876      2096   3846.0   \n",
       "199719  6547431506     5469446011        False  1651284269      2918   3846.0   \n",
       "266704  6548663103     5470517693        False  1651341722      2293   4960.0   \n",
       "\n",
       "        num_mmr  lobby_type  game_mode  avg_rank_tier  num_rank_tier  cluster  \\\n",
       "124982     10.0           1          2             80             10      155   \n",
       "191249     10.0           1          2             58             10      122   \n",
       "197646     10.0           1          2             79             10      121   \n",
       "199719     10.0           1          2             79             10      122   \n",
       "266704     10.0           9          2             77             10      274   \n",
       "124982     10.0           1          2             80             10      155   \n",
       "191249     10.0           1          2             58             10      122   \n",
       "197646     10.0           1          2             79             10      121   \n",
       "199719     10.0           1          2             79             10      122   \n",
       "266704     10.0           9          2             77             10      274   \n",
       "124982     10.0           1          2             80             10      155   \n",
       "191249     10.0           1          2             58             10      122   \n",
       "197646     10.0           1          2             79             10      121   \n",
       "199719     10.0           1          2             79             10      122   \n",
       "266704     10.0           9          2             77             10      274   \n",
       "124982     10.0           1          2             80             10      155   \n",
       "191249     10.0           1          2             58             10      122   \n",
       "197646     10.0           1          2             79             10      121   \n",
       "199719     10.0           1          2             79             10      122   \n",
       "266704     10.0           9          2             77             10      274   \n",
       "\n",
       "         region  \n",
       "124982  SE Asia  \n",
       "191249  US East  \n",
       "197646  US East  \n",
       "199719  US East  \n",
       "266704   Europe  \n",
       "124982  SE Asia  \n",
       "191249  US East  \n",
       "197646  US East  \n",
       "199719  US East  \n",
       "266704   Europe  \n",
       "124982  SE Asia  \n",
       "191249  US East  \n",
       "197646  US East  \n",
       "199719  US East  \n",
       "266704   Europe  \n",
       "124982  SE Asia  \n",
       "191249  US East  \n",
       "197646  US East  \n",
       "199719  US East  \n",
       "266704   Europe  "
      ]
     },
     "execution_count": 31,
     "metadata": {},
     "output_type": "execute_result"
    }
   ],
   "source": [
    "# okay that kinda looks a lot like a relationship so maybe there's something to the smurf theory?\n",
    "# I'm going to make a reddit post and ask if anyone knows what this field describes\n",
    "mega_df[mega_df[\"num_mmr\"] == 10.] # kinda rare"
   ]
  },
  {
   "cell_type": "markdown",
   "metadata": {},
   "source": [
    "At this point I had no idea what it was other than possibly that it had to do with some outdated setting to make MMR visible to third parties? I should have just said something wrong and then I bet reddit would have been super helpful. It was at this point that I figured I knew enough about the columns and could begin to quality check the data. Here I list how many null values each column has. We can see that I only have nulls for avg_ and num_mmr, and exactly the same number. Useful."
   ]
  },
  {
   "cell_type": "code",
   "execution_count": 32,
   "metadata": {},
   "outputs": [
    {
     "data": {
      "text/plain": [
       "match_id              0\n",
       "match_seq_num         0\n",
       "radiant_win           0\n",
       "start_time            0\n",
       "duration              0\n",
       "avg_mmr          384684\n",
       "num_mmr          384684\n",
       "lobby_type            0\n",
       "game_mode             0\n",
       "avg_rank_tier         0\n",
       "num_rank_tier         0\n",
       "cluster               0\n",
       "region                0\n",
       "dtype: int64"
      ]
     },
     "execution_count": 32,
     "metadata": {},
     "output_type": "execute_result"
    }
   ],
   "source": [
    "mega_df.isnull().sum()\n",
    "# okay so we got ~850k games with no rank data\n",
    "# everything else is fine"
   ]
  },
  {
   "cell_type": "markdown",
   "metadata": {},
   "source": [
    "Here we can see that ~29% of ranked matches do not have an average mmr listed, which is very strange. I also noticed that unranked matches do have an mmr variable sometimes, but that's fine with my understanding. There is a \"hidden mmr\" for your unranked matches to make sure new players don't match with actual professionals."
   ]
  },
  {
   "cell_type": "code",
   "execution_count": 33,
   "metadata": {},
   "outputs": [
    {
     "name": "stdout",
     "output_type": "stream",
     "text": [
      "Number of Total Ranked Matches: 967492\n",
      "Number of Ranked Matches Without MMR: 286136\n"
     ]
    },
    {
     "data": {
      "text/plain": [
       "0.29575024909766695"
      ]
     },
     "execution_count": 33,
     "metadata": {},
     "output_type": "execute_result"
    }
   ],
   "source": [
    "num_ranked_without_mmr = mega_df[mega_df[\"lobby_type\"] == 7].isnull().sum()[\"avg_mmr\"]\n",
    "num_ranked_total = len(mega_df[mega_df[\"lobby_type\"] == 7])\n",
    "print(\"Number of Total Ranked Matches: \" + str(num_ranked_total))\n",
    "print(\"Number of Ranked Matches Without MMR: \" + str(num_ranked_without_mmr))\n",
    "num_ranked_without_mmr / num_ranked_total\n",
    "# 29% of ranked matches have no mmr here"
   ]
  },
  {
   "cell_type": "markdown",
   "metadata": {},
   "source": [
    "Made a dataframe for ranked games and ranked games with avg_mmr shown."
   ]
  },
  {
   "cell_type": "code",
   "execution_count": 34,
   "metadata": {},
   "outputs": [],
   "source": [
    "ranked_df = mega_df[mega_df[\"lobby_type\"] == 7].copy()\n",
    "ranked_with_mmr_df = ranked_df[ranked_df[\"avg_mmr\"].notna()].copy()"
   ]
  },
  {
   "cell_type": "markdown",
   "metadata": {},
   "source": [
    "Now I simply visualize the distributions of various columns to draw conclusions from them."
   ]
  },
  {
   "cell_type": "code",
   "execution_count": 35,
   "metadata": {},
   "outputs": [
    {
     "data": {
      "text/plain": [
       "<AxesSubplot:ylabel='ones'>"
      ]
     },
     "execution_count": 35,
     "metadata": {},
     "output_type": "execute_result"
    },
    {
     "data": {
      "image/png": "[encoded data removed]",
      "text/plain": [
       "<Figure size 432x288 with 1 Axes>"
      ]
     },
     "metadata": {},
     "output_type": "display_data"
    }
   ],
   "source": [
    "# gotta add a col of 1s so I can plot this\n",
    "distribution_df = mega_df.copy()\n",
    "distribution_df[\"ones\"] = 1\n",
    "distribution_df.groupby(['lobby_type']).sum().plot(kind=\"pie\", y=\"ones\")\n",
    "# if we check this without plotting we can see that there are a combined total of ~3k matches out of 3 million in lobby types 1 and 9 (tournaments and battle cups)"
   ]
  },
  {
   "cell_type": "code",
   "execution_count": 36,
   "metadata": {},
   "outputs": [
    {
     "data": {
      "text/plain": [
       "<AxesSubplot:ylabel='ones'>"
      ]
     },
     "execution_count": 36,
     "metadata": {},
     "output_type": "execute_result"
    },
    {
     "data": {
      "image/png": "[encoded data removed]",
      "text/plain": [
       "<Figure size 432x288 with 1 Axes>"
      ]
     },
     "metadata": {},
     "output_type": "display_data"
    }
   ],
   "source": [
    "# plot of distributions of game mode\n",
    "distribution_df.groupby(['game_mode']).sum().plot(kind=\"pie\", y=\"ones\")"
   ]
  },
  {
   "cell_type": "code",
   "execution_count": 37,
   "metadata": {},
   "outputs": [
    {
     "data": {
      "text/plain": [
       "<AxesSubplot:ylabel='ones'>"
      ]
     },
     "execution_count": 37,
     "metadata": {},
     "output_type": "execute_result"
    },
    {
     "data": {
      "image/png": "[encoded data removed]",
      "text/plain": [
       "<Figure size 432x288 with 1 Axes>"
      ]
     },
     "metadata": {},
     "output_type": "display_data"
    }
   ],
   "source": [
    "# plot of distributions of game mode - lobby type (e.g. different category for ranked all pick and unranked all pick)\n",
    "# so with 4 lobby types and 7 different gamemodes we have a theoretical max of 28 possible game-lobby types\n",
    "# ranked_distribution_df = ranked_df.copy()\n",
    "distribution_df[distribution_df[\"lobby_type\"] == 7].groupby(['game_mode']).sum().plot(kind=\"pie\", y=\"ones\")\n",
    "# gamemodes in ranked"
   ]
  },
  {
   "cell_type": "code",
   "execution_count": 38,
   "metadata": {},
   "outputs": [
    {
     "data": {
      "text/plain": [
       "<AxesSubplot:ylabel='ones'>"
      ]
     },
     "execution_count": 38,
     "metadata": {},
     "output_type": "execute_result"
    },
    {
     "data": {
      "image/png": "[encoded data removed]",
      "text/plain": [
       "<Figure size 432x288 with 1 Axes>"
      ]
     },
     "metadata": {},
     "output_type": "display_data"
    }
   ],
   "source": [
    "distribution_df[distribution_df[\"lobby_type\"] == 0].groupby(['game_mode']).sum().plot(kind=\"pie\", y=\"ones\")\n",
    "# gamemodes in unranked\n",
    "# okay this is kinda neat actually, low prio is single draft and that's like 25% of matches"
   ]
  },
  {
   "cell_type": "code",
   "execution_count": 39,
   "metadata": {},
   "outputs": [],
   "source": [
    "#distribution_df.groupby(['avg_rank_tier']).sum().plot(kind=\"pie\", y=\"ones\") \n",
    "# seems kinda even but also a PITA to format"
   ]
  },
  {
   "cell_type": "code",
   "execution_count": 40,
   "metadata": {},
   "outputs": [
    {
     "data": {
      "text/plain": [
       "<AxesSubplot:ylabel='ones'>"
      ]
     },
     "execution_count": 40,
     "metadata": {},
     "output_type": "execute_result"
    },
    {
     "data": {
      "image/png": "[encoded data removed]",
      "text/plain": [
       "<Figure size 432x288 with 1 Axes>"
      ]
     },
     "metadata": {},
     "output_type": "display_data"
    }
   ],
   "source": [
    "distribution_df.groupby(['region']).sum().plot(kind=\"pie\", y=\"ones\")\n",
    "# gonna want to polish this plot but it's useful. Lots of Russia, lots of SEA, lots of China."
   ]
  },
  {
   "cell_type": "markdown",
   "metadata": {},
   "source": [
    "Here we can see a histogram of the distribution of avg_mmr. Exactly as expected, it's a normal curve witb a center around ~3000, the average global rank. I also plotted histograms for unranked mmr and ranked mmr, which were interestingly the same. Slight right skew to account for the professionals who end up with MMR around 10k regularly, while the floor of 0 MMR keeps the worst players from skewing the graph left."
   ]
  },
  {
   "cell_type": "code",
   "execution_count": 41,
   "metadata": {},
   "outputs": [
    {
     "data": {
      "text/plain": [
       "array([[<AxesSubplot:title={'center':'avg_mmr'}>]], dtype=object)"
      ]
     },
     "execution_count": 41,
     "metadata": {},
     "output_type": "execute_result"
    },
    {
     "data": {
      "image/png": "[encoded data removed]",
      "text/plain": [
       "<Figure size 432x288 with 1 Axes>"
      ]
     },
     "metadata": {
      "needs_background": "light"
     },
     "output_type": "display_data"
    }
   ],
   "source": [
    "# I already kinda know the distribution of mmr but let's plot it\n",
    "# violin plot.\n",
    "\n",
    "# make a dict from x-category to values\n",
    "\n",
    "\n",
    "# fig, ax = plt.subplots()\n",
    "# ax.violinplot(data, widths=1, showmeans=True)\n",
    "\n",
    "# okay check this, plot with x = mmr, y = frequency\n",
    "# one for unranked with ranks one for ranked with ranks\n",
    "distribution_df.hist(\"avg_mmr\", bins=30)\n",
    "# could optimize this with buckets, might be a PITA to label like this\n",
    "# nah just use hist"
   ]
  },
  {
   "cell_type": "code",
   "execution_count": 42,
   "metadata": {},
   "outputs": [
    {
     "data": {
      "text/plain": [
       "array([[<AxesSubplot:title={'center':'avg_mmr'}>]], dtype=object)"
      ]
     },
     "execution_count": 42,
     "metadata": {},
     "output_type": "execute_result"
    },
    {
     "data": {
      "image/png": "[encoded data removed]",
      "text/plain": [
       "<Figure size 432x288 with 1 Axes>"
      ]
     },
     "metadata": {
      "needs_background": "light"
     },
     "output_type": "display_data"
    }
   ],
   "source": [
    "# distribution_df[distribution_df[\"lobby_type\"] == 0].groupby([\"avg_mmr\"]).sum().hist(\"avg_mmr\", bins=20)\n",
    "distribution_df[distribution_df[\"lobby_type\"] == 0].hist(\"avg_mmr\", bins=30)"
   ]
  },
  {
   "cell_type": "code",
   "execution_count": 43,
   "metadata": {},
   "outputs": [
    {
     "data": {
      "text/plain": [
       "array([[<AxesSubplot:title={'center':'avg_mmr'}>]], dtype=object)"
      ]
     },
     "execution_count": 43,
     "metadata": {},
     "output_type": "execute_result"
    },
    {
     "data": {
      "image/png": "[encoded data removed]",
      "text/plain": [
       "<Figure size 432x288 with 1 Axes>"
      ]
     },
     "metadata": {
      "needs_background": "light"
     },
     "output_type": "display_data"
    }
   ],
   "source": [
    "distribution_df[distribution_df[\"lobby_type\"] == 7].hist(\"avg_mmr\", bins=30)\n",
    "# extremely similar distribution of mmr between ranked and unranked, with a notably longer tail on ranked games"
   ]
  },
  {
   "cell_type": "code",
   "execution_count": 44,
   "metadata": {},
   "outputs": [
    {
     "data": {
      "text/plain": [
       "array([[<AxesSubplot:title={'center':'duration'}>]], dtype=object)"
      ]
     },
     "execution_count": 44,
     "metadata": {},
     "output_type": "execute_result"
    },
    {
     "data": {
      "image/png": "[encoded data removed]",
      "text/plain": [
       "<Figure size 432x288 with 1 Axes>"
      ]
     },
     "metadata": {
      "needs_background": "light"
     },
     "output_type": "display_data"
    }
   ],
   "source": [
    "distribution_df.hist(\"duration\", bins=30)\n",
    "# right-skewed, makes sense. It's physically difficult to end a game before a certain time even if the enemies are basically helping you."
   ]
  }
 ],
 "metadata": {
  "interpreter": {
   "hash": "c6c2e7048903ec76ed48861348f76f8245915ade6a9361794fa0adebd979656c"
  },
  "kernelspec": {
   "display_name": "Python 3.10.2 64-bit",
   "language": "python",
   "name": "python3"
  },
  "language_info": {
   "codemirror_mode": {
    "name": "ipython",
    "version": 3
   },
   "file_extension": ".py",
   "mimetype": "text/x-python",
   "name": "python",
   "nbconvert_exporter": "python",
   "pygments_lexer": "ipython3",
   "version": "3.10.2"
  },
  "orig_nbformat": 4
 },
 "nbformat": 4,
 "nbformat_minor": 2
}
