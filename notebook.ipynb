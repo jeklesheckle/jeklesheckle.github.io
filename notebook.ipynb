{
 "cells": [
  {
   "cell_type": "markdown",
   "metadata": {},
   "source": [
    "#### The final project\n",
    "Last one baybee\n",
    "\n",
    "# TODO\n",
    "* make sure you stop saving index in db\n",
    "* a ton of other shit lol\n",
    "\n",
    "### What's going on in here?\n",
    "I play too much DotA 2. I have spent approximately 5,000 hours just playing the game, not to mention the countless hours I've spent watching and studying it. That's not a flex, I'm not good or anything, but a testament to the degree to which my life could be better if I had never found the game. Anyway, I'm going to take advantage of it for the first time in my whole life and use some DotA datA to complete this project.  \n",
    "\n",
    "#### A little background on DotA\n",
    "Here's the website for reference: https://dota2.com. Top-down mouse-movement MOBA (multiplayer online battle arena) RTS (real-time strategy). If you've heard of League of Legends, it's basically League for *cultured* people. Two teams of five players first spend a few minutes drafting \"heroes\", each player selecting a unique hero. They are dropped into their team's base on opposite sides of a big map and they have to kill stuff to get more money to kill more stuff until they can kill the big rock in the other team's base. Best game ever made.  \n",
    "\n",
    "My approach was honestly first seeing what data was convenient to get, then deciding what conclusions I could draw from it. Valve, the company that makes DotA 2 (one of the most profitable companies in the entire world) records basically every point of data from every frame of the match for every match. There is a way to get the data straight from them but it involves getting an API key and sacrificing a goat and I just ran out of goats trying to win my last ranked game.   \n",
    "\n",
    "I've long known about OpenDota, a match analysis and statistics platform for analysing the game. They have an API (docs: https://docs.opendota.com/) that probably hasn't been updated beyond upkeep in the last 5 years. In spite of that and Valve's notorious spaghetti code, I was able to get the data I needed out of it because they have a `/explorer` call that lets me make arbitrary queries to their database. That sounds risky for them to offer but I'm glad they do because all the rest of their calls kinda blow. You can get 100 random matches but it's almost always the same 100. In spite of my insult, I think highly of them because of their extremely generous rates. You don't need an API key to make 50k requests a month or 60 requests a minute. Great for me, because I only have to make a handful of requests since they'll let me basically dump their database over the internet into my computer.   \n",
    "\n",
    "Let's get into the nitty-gritty. Some libraries I imported straight away, some libraries I'll import as the project goes on. For a full list... read the full article >:}. `requests` to send requests to OpenDota's API, `pandas` to shuffle data around, `json` to parse their JSON responses, `urllib` because their `/explorer` call wants \"percent-encoded strings\" and it does that so I don't have to.  "
   ]
  },
  {
   "cell_type": "code",
   "execution_count": 1,
   "metadata": {},
   "outputs": [],
   "source": [
    "import requests\n",
    "import pandas as pd\n",
    "import json\n",
    "import urllib"
   ]
  },
  {
   "cell_type": "markdown",
   "metadata": {},
   "source": [
    "So while I was wandering around their docs pretending I'm a capable adult who knows what he's doing, I tripped and fell over this `/schema` thing. After a bit of poking around, testing their other calls and finding out how relatively useless they are, and sobbing in the corner, I figured out that `/explorer` and `/schema` let me basically do whatever I want. Let's see what their database looks like."
   ]
  },
  {
   "cell_type": "code",
   "execution_count": 2,
   "metadata": {},
   "outputs": [],
   "source": [
    "schema_response = requests.get(\"https://api.opendota.com/api/schema\")\n"
   ]
  },
  {
   "cell_type": "code",
   "execution_count": 3,
   "metadata": {},
   "outputs": [
    {
     "name": "stdout",
     "output_type": "stream",
     "text": [
      "Table name: api_key_usage\n",
      "0     account_id\n",
      "1    customer_id\n",
      "2        api_key\n",
      "3    usage_count\n",
      "4             ip\n",
      "5      timestamp\n",
      "Name: column_name, dtype: object\n",
      "Table name: api_keys\n",
      "6         account_id\n",
      "7            api_key\n",
      "8        customer_id\n",
      "9    subscription_id\n",
      "Name: column_name, dtype: object\n",
      "Table name: competitive_rank\n",
      "10    account_id\n",
      "11        rating\n",
      "Name: column_name, dtype: object\n",
      "Table name: cosmetics\n",
      "12             item_id\n",
      "13                name\n",
      "14              prefab\n",
      "15       creation_date\n",
      "16     image_inventory\n",
      "17          image_path\n",
      "18    item_description\n",
      "19           item_name\n",
      "20         item_rarity\n",
      "21      item_type_name\n",
      "22      used_by_heroes\n",
      "Name: column_name, dtype: object\n",
      "Table name: hero_ranking\n",
      "23    account_id\n",
      "24       hero_id\n",
      "25         score\n",
      "Name: column_name, dtype: object\n",
      "Table name: hero_search\n",
      "26      match_id\n",
      "27         teama\n",
      "28         teamb\n",
      "29      teamawin\n",
      "30    start_time\n",
      "Name: column_name, dtype: object\n",
      "Table name: heroes\n",
      "31                id\n",
      "32              name\n",
      "33    localized_name\n",
      "34      primary_attr\n",
      "35       attack_type\n",
      "36             roles\n",
      "37              legs\n",
      "Name: column_name, dtype: object\n",
      "Table name: items\n",
      "38                id\n",
      "39              name\n",
      "40              cost\n",
      "41       secret_shop\n",
      "42         side_shop\n",
      "43            recipe\n",
      "44    localized_name\n",
      "Name: column_name, dtype: object\n",
      "Table name: leaderboard_rank\n",
      "45    account_id\n",
      "46        rating\n",
      "Name: column_name, dtype: object\n",
      "Table name: leagues\n",
      "47    leagueid\n",
      "48      ticket\n",
      "49      banner\n",
      "50        tier\n",
      "51        name\n",
      "Name: column_name, dtype: object\n",
      "Table name: match_gcdata\n",
      "52       match_id\n",
      "53        cluster\n",
      "54    replay_salt\n",
      "55      series_id\n",
      "56    series_type\n",
      "Name: column_name, dtype: object\n",
      "Table name: match_logs\n",
      "57                  match_id\n",
      "58                      time\n",
      "59                      type\n",
      "60                      team\n",
      "61                      unit\n",
      "62                       key\n",
      "63                     value\n",
      "64                      slot\n",
      "65               player_slot\n",
      "66                   player1\n",
      "67                   player2\n",
      "68              attackerhero\n",
      "69                targethero\n",
      "70          attackerillusion\n",
      "71            targetillusion\n",
      "72                 inflictor\n",
      "73               gold_reason\n",
      "74                 xp_reason\n",
      "75                 valuename\n",
      "76                      gold\n",
      "77                        lh\n",
      "78                        xp\n",
      "79                         x\n",
      "80                         y\n",
      "81                         z\n",
      "82                entityleft\n",
      "83                   ehandle\n",
      "84                     stuns\n",
      "85                   hero_id\n",
      "86                life_state\n",
      "87                     level\n",
      "88                     kills\n",
      "89                    deaths\n",
      "90                   assists\n",
      "91                    denies\n",
      "92         attackername_slot\n",
      "93           targetname_slot\n",
      "94           sourcename_slot\n",
      "95     targetsourcename_slot\n",
      "96              player1_slot\n",
      "97              attackername\n",
      "98                targetname\n",
      "99                sourcename\n",
      "100         targetsourcename\n",
      "101               obs_placed\n",
      "102               sen_placed\n",
      "103           creeps_stacked\n",
      "104            camps_stacked\n",
      "105             rune_pickups\n",
      "Name: column_name, dtype: object\n",
      "Table name: match_patch\n",
      "106    match_id\n",
      "107       patch\n",
      "Name: column_name, dtype: object\n",
      "Table name: matches\n",
      "108                   match_id\n",
      "109              match_seq_num\n",
      "110                radiant_win\n",
      "111                 start_time\n",
      "112                   duration\n",
      "113       tower_status_radiant\n",
      "114          tower_status_dire\n",
      "115    barracks_status_radiant\n",
      "116       barracks_status_dire\n",
      "117                    cluster\n",
      "118           first_blood_time\n",
      "119                 lobby_type\n",
      "120              human_players\n",
      "121                   leagueid\n",
      "122             positive_votes\n",
      "123             negative_votes\n",
      "124                  game_mode\n",
      "125                     engine\n",
      "126                 picks_bans\n",
      "127            radiant_team_id\n",
      "128               dire_team_id\n",
      "129          radiant_team_name\n",
      "130             dire_team_name\n",
      "131      radiant_team_complete\n",
      "132         dire_team_complete\n",
      "133            radiant_captain\n",
      "134               dire_captain\n",
      "135                       chat\n",
      "136                 objectives\n",
      "137           radiant_gold_adv\n",
      "138             radiant_xp_adv\n",
      "139                 teamfights\n",
      "140                    version\n",
      "141                  cosmetics\n",
      "142              radiant_score\n",
      "143                 dire_score\n",
      "144              draft_timings\n",
      "145                  series_id\n",
      "146                series_type\n",
      "Name: column_name, dtype: object\n",
      "Table name: mmr_estimates\n",
      "147    account_id\n",
      "148      estimate\n",
      "Name: column_name, dtype: object\n",
      "Table name: notable_players\n",
      "149      account_id\n",
      "150            name\n",
      "151    country_code\n",
      "152    fantasy_role\n",
      "153         team_id\n",
      "154       team_name\n",
      "155        team_tag\n",
      "156       is_locked\n",
      "157          is_pro\n",
      "158    locked_until\n",
      "Name: column_name, dtype: object\n",
      "Table name: parsed_matches\n",
      "159    match_id\n",
      "Name: column_name, dtype: object\n",
      "Table name: picks_bans\n",
      "160    match_id\n",
      "161     is_pick\n",
      "162     hero_id\n",
      "163        team\n",
      "164         ord\n",
      "Name: column_name, dtype: object\n",
      "Table name: player_matches\n",
      "165          match_id\n",
      "166        account_id\n",
      "167       player_slot\n",
      "168           hero_id\n",
      "169            item_0\n",
      "            ...      \n",
      "247              dn_t\n",
      "248    connection_log\n",
      "249        backpack_3\n",
      "250      item_neutral\n",
      "251         net_worth\n",
      "Name: column_name, Length: 87, dtype: object\n",
      "Table name: player_ratings\n",
      "252               account_id\n",
      "253                 match_id\n",
      "254    solo_competitive_rank\n",
      "255         competitive_rank\n",
      "256                     time\n",
      "Name: column_name, dtype: object\n",
      "Table name: players\n",
      "257           account_id\n",
      "258              steamid\n",
      "259               avatar\n",
      "260         avatarmedium\n",
      "261           avatarfull\n",
      "262           profileurl\n",
      "263          personaname\n",
      "264           last_login\n",
      "265    full_history_time\n",
      "266               cheese\n",
      "267       fh_unavailable\n",
      "268       loccountrycode\n",
      "269      last_match_time\n",
      "270                 plus\n",
      "Name: column_name, dtype: object\n",
      "Table name: public_matches\n",
      "271         match_id\n",
      "272    match_seq_num\n",
      "273      radiant_win\n",
      "274       start_time\n",
      "275         duration\n",
      "276          avg_mmr\n",
      "277          num_mmr\n",
      "278       lobby_type\n",
      "279        game_mode\n",
      "280    avg_rank_tier\n",
      "281    num_rank_tier\n",
      "282          cluster\n",
      "Name: column_name, dtype: object\n",
      "Table name: public_player_matches\n",
      "283       match_id\n",
      "284    player_slot\n",
      "285        hero_id\n",
      "Name: column_name, dtype: object\n",
      "Table name: queue\n",
      "286                   id\n",
      "287                 type\n",
      "288            timestamp\n",
      "289             attempts\n",
      "290                 data\n",
      "291    next_attempt_time\n",
      "292             priority\n",
      "Name: column_name, dtype: object\n",
      "Table name: rank_tier\n",
      "293    account_id\n",
      "294        rating\n",
      "Name: column_name, dtype: object\n",
      "Table name: rank_tier_2019_1\n",
      "295    account_id\n",
      "296        rating\n",
      "Name: column_name, dtype: object\n",
      "Table name: scenarios\n",
      "297       hero_id\n",
      "298          item\n",
      "299          time\n",
      "300     lane_role\n",
      "301         games\n",
      "302          wins\n",
      "303    epoch_week\n",
      "Name: column_name, dtype: object\n",
      "Table name: solo_competitive_rank\n",
      "304    account_id\n",
      "305        rating\n",
      "Name: column_name, dtype: object\n",
      "Table name: subscriptions\n",
      "306      account_id\n",
      "307     customer_id\n",
      "308          amount\n",
      "309    active_until\n",
      "Name: column_name, dtype: object\n",
      "Table name: team_match\n",
      "310     team_id\n",
      "311    match_id\n",
      "312     radiant\n",
      "Name: column_name, dtype: object\n",
      "Table name: team_rating\n",
      "313            team_id\n",
      "314             rating\n",
      "315               wins\n",
      "316             losses\n",
      "317    last_match_time\n",
      "Name: column_name, dtype: object\n",
      "Table name: team_scenarios\n",
      "318      scenario\n",
      "319    is_radiant\n",
      "320        region\n",
      "321         games\n",
      "322          wins\n",
      "323    epoch_week\n",
      "Name: column_name, dtype: object\n",
      "Table name: teams\n",
      "324     team_id\n",
      "325        name\n",
      "326         tag\n",
      "327    logo_url\n",
      "Name: column_name, dtype: object\n",
      "Table name: user_usage\n",
      "328     account_id\n",
      "329             ip\n",
      "330    usage_count\n",
      "331      timestamp\n",
      "Name: column_name, dtype: object\n",
      "Table name: webhooks\n",
      "332          hook_id\n",
      "333       account_id\n",
      "334              url\n",
      "335    subscriptions\n",
      "Name: column_name, dtype: object\n"
     ]
    }
   ],
   "source": [
    "schema_parsed = json.loads(schema_response.content)\n",
    "schema_df = pd.DataFrame(schema_parsed)\n",
    "for index, table in schema_df.groupby(\"table_name\"):\n",
    "    print(\"Table name: \" + str(index))\n",
    "    print(table[\"column_name\"]) # use this line to see all cols in all tables"
   ]
  },
  {
   "cell_type": "markdown",
   "metadata": {},
   "source": [
    "Now you don't have to do this, but I had that line up there uncommented and looked into the tables that had promising names for data I thought might be interesting. The following is a list of tables that seemed potentially useful for getting data about the average dota player's experience:\n",
    "##### tables of note:\n",
    "* competitive_rank: stores data about players' rankings in some system. Not the game's normal ranked \"MMR\" (matchmaking rating, measure of skill).\n",
    "* heroes: stores mostly useless constant data about all of the heroes\n",
    "* items: stores mostly useless constant data about all of the items the heroes can buy to get better at killin\n",
    "* match_logs: has logs from matches. Almost too rich, has data on objective kills, teamfights etc. Lots of insight here.\n",
    "* match_path: has matchID and patch cols, I guess it's for getting the patch of a match. Not needed, I'll just take data by time which guarantees a single patch.\n",
    "* matches: has match data for tournament games\n",
    "* parsed_matches: has matchIDs of parsed matches (OpenDota parses some matches by requesting and transforming data from Valve)\n",
    "* player_matches: has like a million columns. Contains data about players in match (items they bought and when, etc). Useful, but bloated.\n",
    "* players: has mildly interesting data about players but doesn't seem to have much on their matches\n",
    "* public_matches and player_public_matches: seem to have the data I want.\n",
    "* scenarios: seems to have heroes and item timings? Honestly the cols don't do me a lot of good here  \n",
    "\n",
    "After looking over all of these, it seemed like the best choice for getting a lot of data and getting useful data was \"public_matches\". "
   ]
  },
  {
   "cell_type": "code",
   "execution_count": 4,
   "metadata": {},
   "outputs": [
    {
     "data": {
      "text/html": [
       "<div>\n",
       "<style scoped>\n",
       "    .dataframe tbody tr th:only-of-type {\n",
       "        vertical-align: middle;\n",
       "    }\n",
       "\n",
       "    .dataframe tbody tr th {\n",
       "        vertical-align: top;\n",
       "    }\n",
       "\n",
       "    .dataframe thead th {\n",
       "        text-align: right;\n",
       "    }\n",
       "</style>\n",
       "<table border=\"1\" class=\"dataframe\">\n",
       "  <thead>\n",
       "    <tr style=\"text-align: right;\">\n",
       "      <th></th>\n",
       "      <th>table_name</th>\n",
       "      <th>column_name</th>\n",
       "      <th>data_type</th>\n",
       "    </tr>\n",
       "  </thead>\n",
       "  <tbody>\n",
       "    <tr>\n",
       "      <th>271</th>\n",
       "      <td>public_matches</td>\n",
       "      <td>match_id</td>\n",
       "      <td>bigint</td>\n",
       "    </tr>\n",
       "    <tr>\n",
       "      <th>272</th>\n",
       "      <td>public_matches</td>\n",
       "      <td>match_seq_num</td>\n",
       "      <td>bigint</td>\n",
       "    </tr>\n",
       "    <tr>\n",
       "      <th>273</th>\n",
       "      <td>public_matches</td>\n",
       "      <td>radiant_win</td>\n",
       "      <td>boolean</td>\n",
       "    </tr>\n",
       "    <tr>\n",
       "      <th>274</th>\n",
       "      <td>public_matches</td>\n",
       "      <td>start_time</td>\n",
       "      <td>integer</td>\n",
       "    </tr>\n",
       "    <tr>\n",
       "      <th>275</th>\n",
       "      <td>public_matches</td>\n",
       "      <td>duration</td>\n",
       "      <td>integer</td>\n",
       "    </tr>\n",
       "    <tr>\n",
       "      <th>276</th>\n",
       "      <td>public_matches</td>\n",
       "      <td>avg_mmr</td>\n",
       "      <td>integer</td>\n",
       "    </tr>\n",
       "    <tr>\n",
       "      <th>277</th>\n",
       "      <td>public_matches</td>\n",
       "      <td>num_mmr</td>\n",
       "      <td>integer</td>\n",
       "    </tr>\n",
       "    <tr>\n",
       "      <th>278</th>\n",
       "      <td>public_matches</td>\n",
       "      <td>lobby_type</td>\n",
       "      <td>integer</td>\n",
       "    </tr>\n",
       "    <tr>\n",
       "      <th>279</th>\n",
       "      <td>public_matches</td>\n",
       "      <td>game_mode</td>\n",
       "      <td>integer</td>\n",
       "    </tr>\n",
       "    <tr>\n",
       "      <th>280</th>\n",
       "      <td>public_matches</td>\n",
       "      <td>avg_rank_tier</td>\n",
       "      <td>double precision</td>\n",
       "    </tr>\n",
       "    <tr>\n",
       "      <th>281</th>\n",
       "      <td>public_matches</td>\n",
       "      <td>num_rank_tier</td>\n",
       "      <td>integer</td>\n",
       "    </tr>\n",
       "    <tr>\n",
       "      <th>282</th>\n",
       "      <td>public_matches</td>\n",
       "      <td>cluster</td>\n",
       "      <td>integer</td>\n",
       "    </tr>\n",
       "  </tbody>\n",
       "</table>\n",
       "</div>"
      ],
      "text/plain": [
       "         table_name    column_name         data_type\n",
       "271  public_matches       match_id            bigint\n",
       "272  public_matches  match_seq_num            bigint\n",
       "273  public_matches    radiant_win           boolean\n",
       "274  public_matches     start_time           integer\n",
       "275  public_matches       duration           integer\n",
       "276  public_matches        avg_mmr           integer\n",
       "277  public_matches        num_mmr           integer\n",
       "278  public_matches     lobby_type           integer\n",
       "279  public_matches      game_mode           integer\n",
       "280  public_matches  avg_rank_tier  double precision\n",
       "281  public_matches  num_rank_tier           integer\n",
       "282  public_matches        cluster           integer"
      ]
     },
     "execution_count": 4,
     "metadata": {},
     "output_type": "execute_result"
    }
   ],
   "source": [
    "schema_df[schema_df[\"table_name\"] == \"public_matches\"]"
   ]
  },
  {
   "cell_type": "markdown",
   "metadata": {},
   "source": [
    "Some of these columns I knew right away just based on their names and values, others were more nuanced, and others I still don't know.\n",
    "* `match_id` is a unique number that represents a particular match. \n",
    "* `match_seq_num` seems to indicate the sequence in which matches took place, which really doesn't matter to me because of other cols.\n",
    "* `radiant_win` is boolean, says if one of the teams won. There can only be two outcomes, either Radiant wins or Dire wins.\n",
    "* `start_time` is a timestamp down to the second for when the match started.\n",
    "* `duration` is the duration of the match in seconds.\n",
    "* `avg_mmr` seems to be the average mmr of the match, but there's a lot of reasons why it's more complicated than that. More on that later.\n",
    "* `num_mmr` I spent hours failing to figure this one out, more on that later as well.\n",
    "* `lobby_type` is the type of lobby the match was hosted in. More on that.\n",
    "* `game_mode` is the type of game played in the lobby. M O T.\n",
    "* `avg_rank_tier` honestly no idea, don't care. Doesn't seem more useful than `avg_mmr`.\n",
    "* `num_rank_tier` presumably the `num_mmr` of `avg_rank_tier`. Don't know don't care.\n",
    "* `cluster` at first I thought this was useless or an artifact of their database software, turns out it's the number ID of the server cluster the match is played on, a perfect analog for \"region\".  \n",
    "  \n",
    "After considerably faffing about trying to remember how to use SQL and sending goofy requests to their API I learned a few things. First is that there are somewhere in the neighborhood of 16 million matches in the table I want. I wanted all of them, but then realized I wanted them all to be from the same game patch (patches change the balance of the game and can mess with my analysis). I looked over the update news and saw that there was no balance patch in April, so I just found the unicode timestamps for the start and end of April this year (down to the second) and grabbed stuff that was in that range. There seems to be some number of rows that their database refuses to send to me in a single request, so I guessed and checked and it turns out I can get the ~3 million rows for April in about four chunks. Your mileage may vary trying to run this code, if you're getting 400 response codes just try a smaller chunk of matches.   \n",
    "I basically just kept grabbing non-overlapping chunks of their table by the `start_time` of the matches until I had all of them, then I asked pandas to combine all of the dataframes and used SQLite to save them to my hard disk so I wouldn't have to mess around with remaking these requests every time I reopened my editor.  \n",
    "  \n",
    "That's the overall plot, below are some commented code sections that document my torment trying to get the stars aligned. It was hard to tell if my queries were failing because they were malformed or because I was asking for something the database didn't want to deliver, but I worked it out through brute force. If I had every request I made here this thing would take up at least another page without having more info, so I've cut down the actual work I did here for presentation pizzaz. "
   ]
  },
  {
   "cell_type": "code",
   "execution_count": 5,
   "metadata": {},
   "outputs": [
    {
     "name": "stdout",
     "output_type": "stream",
     "text": [
      "SELECT%20COUNT%28%2A%29%20FROM%20public_matches%20where%20start_time%20BETWEEN%201648785600%20AND%201651377600\n",
      "https://api.opendota.com/api/explorer?sql=SELECT%20COUNT%28%2A%29%20FROM%20public_matches%20where%20start_time%20BETWEEN%201648785600%20AND%201651377600\n",
      "200\n",
      "dict_keys(['command', 'rowCount', 'oid', 'rows', 'fields', '_parsers', '_types', 'RowCtor', 'rowAsArray', 'err'])\n",
      "Number of rows in April: 2726818\n"
     ]
    }
   ],
   "source": [
    "# database_request = urllib.parse.quote(\"select * from matches limit 5\".encode(\"utf8\")) # seems to be capable of drawing really old matches, found one from 2012\n",
    "# turns out \"matches\" has tournament matches and since there's so few it seems to have literally all of them since the game was released?\n",
    "# database_request = urllib.parse.quote(\"select * from public_matches where start_time > 1651377600\".encode(\"utf8\"))\n",
    "# ^^^^ above I tried grabbing all matches since the end of April (this was on like 5/3 so I knew there wouldn't be many)\n",
    "# the above two requests helped me realize I could request large chunks of matches; that I was being limited by the chunk size\n",
    "\n",
    "# I wondered how far back the public_matches table went, so I used this query:\n",
    "# database_request = urllib.parse.quote(\"SELECT match_id FROM public_matches WHERE start_time = ( SELECT MIN(start_time) FROM public_matches ) ORDER BY match_id ASC LIMIT 1;\".encode(\"utf8\"))\n",
    "# turns out they only went back about 6 months. So average of ~3 million matches a month so far this year. Nice.\n",
    "\n",
    "\n",
    "# start of april this year 1648785600\n",
    "# end of april this year 1651377600\n",
    "# how many matches happened in April?\n",
    "database_request = urllib.parse.quote(\"SELECT COUNT(*) FROM public_matches where start_time BETWEEN 1648785600 AND 1651377600\".encode(\"utf8\"))\n",
    "print(database_request) # what does this SQL string look like?\n",
    "request_string = \"https://api.opendota.com/api/explorer?sql=\" + database_request\n",
    "print(request_string) # what's the request string look like?\n",
    "api_response = requests.get(request_string)\n",
    "print(api_response.status_code) # what's the status of the request?\n",
    "api_parsed_json = json.loads(api_response.content)\n",
    "print(api_parsed_json.keys())\n",
    "print(\"Number of rows in April: \" + str(api_parsed_json[\"rows\"][0][\"count\"]))\n",
    "# run without limiting timeframe there's 17 million matches in the table"
   ]
  },
  {
   "cell_type": "markdown",
   "metadata": {},
   "source": [
    "Below you can see me poop-knifing (technical term) the data to try and get it to go through. I just updated the code in the request chunk with the various timestamps, but for you I've arranged it into a series of requests so that you can easily follow along if you want. Ain't I sweet? Like a said earlier, the database seems tempermental about these requests so you still might end up having to reduce the size of some slices by lowering the time gap you're requesting. Worst comes to worst, shoot me an email at jacksonpielstick@gmail.com and I'll link you my sqlite DB. It takes me around a minute to run this code, you should see requests coming back every 10-20 seconds in your output."
   ]
  },
  {
   "cell_type": "code",
   "execution_count": 7,
   "metadata": {},
   "outputs": [
    {
     "name": "stdout",
     "output_type": "stream",
     "text": [
      "SELECT%20%2A%20FROM%20public_matches%20where%20start_time%20BETWEEN%201651077600%20AND%201651377600\n",
      "https://api.opendota.com/api/explorer?sql=SELECT%20%2A%20FROM%20public_matches%20where%20start_time%20BETWEEN%201651077600%20AND%201651377600\n",
      "<Response [200]>\n",
      "SELECT%20%2A%20FROM%20public_matches%20where%20start_time%20BETWEEN%201651077600%20AND%201651377600\n",
      "https://api.opendota.com/api/explorer?sql=SELECT%20%2A%20FROM%20public_matches%20where%20start_time%20BETWEEN%201651077600%20AND%201651377600\n",
      "<Response [200]>\n",
      "SELECT%20%2A%20FROM%20public_matches%20where%20start_time%20BETWEEN%201651077600%20AND%201651377600\n",
      "https://api.opendota.com/api/explorer?sql=SELECT%20%2A%20FROM%20public_matches%20where%20start_time%20BETWEEN%201651077600%20AND%201651377600\n",
      "<Response [200]>\n",
      "SELECT%20%2A%20FROM%20public_matches%20where%20start_time%20BETWEEN%201651077600%20AND%201651377600\n",
      "https://api.opendota.com/api/explorer?sql=SELECT%20%2A%20FROM%20public_matches%20where%20start_time%20BETWEEN%201651077600%20AND%201651377600\n",
      "<Response [200]>\n",
      "Number of rows: 1198380\n"
     ]
    },
    {
     "data": {
      "text/html": [
       "<div>\n",
       "<style scoped>\n",
       "    .dataframe tbody tr th:only-of-type {\n",
       "        vertical-align: middle;\n",
       "    }\n",
       "\n",
       "    .dataframe tbody tr th {\n",
       "        vertical-align: top;\n",
       "    }\n",
       "\n",
       "    .dataframe thead th {\n",
       "        text-align: right;\n",
       "    }\n",
       "</style>\n",
       "<table border=\"1\" class=\"dataframe\">\n",
       "  <thead>\n",
       "    <tr style=\"text-align: right;\">\n",
       "      <th></th>\n",
       "      <th>match_id</th>\n",
       "      <th>match_seq_num</th>\n",
       "      <th>radiant_win</th>\n",
       "      <th>start_time</th>\n",
       "      <th>duration</th>\n",
       "      <th>avg_mmr</th>\n",
       "      <th>num_mmr</th>\n",
       "      <th>lobby_type</th>\n",
       "      <th>game_mode</th>\n",
       "      <th>avg_rank_tier</th>\n",
       "      <th>num_rank_tier</th>\n",
       "      <th>cluster</th>\n",
       "    </tr>\n",
       "  </thead>\n",
       "  <tbody>\n",
       "    <tr>\n",
       "      <th>166498</th>\n",
       "      <td>6546930605</td>\n",
       "      <td>5468953953</td>\n",
       "      <td>False</td>\n",
       "      <td>1651251475</td>\n",
       "      <td>1789</td>\n",
       "      <td>2810.0</td>\n",
       "      <td>3.0</td>\n",
       "      <td>7</td>\n",
       "      <td>22</td>\n",
       "      <td>47</td>\n",
       "      <td>7</td>\n",
       "      <td>193</td>\n",
       "    </tr>\n",
       "    <tr>\n",
       "      <th>169031</th>\n",
       "      <td>6546972010</td>\n",
       "      <td>5468993335</td>\n",
       "      <td>True</td>\n",
       "      <td>1651253162</td>\n",
       "      <td>1858</td>\n",
       "      <td>3064.0</td>\n",
       "      <td>1.0</td>\n",
       "      <td>7</td>\n",
       "      <td>22</td>\n",
       "      <td>24</td>\n",
       "      <td>3</td>\n",
       "      <td>144</td>\n",
       "    </tr>\n",
       "    <tr>\n",
       "      <th>266522</th>\n",
       "      <td>6548661106</td>\n",
       "      <td>5470510192</td>\n",
       "      <td>True</td>\n",
       "      <td>1651341612</td>\n",
       "      <td>2568</td>\n",
       "      <td>2524.0</td>\n",
       "      <td>7.0</td>\n",
       "      <td>0</td>\n",
       "      <td>22</td>\n",
       "      <td>33</td>\n",
       "      <td>7</td>\n",
       "      <td>274</td>\n",
       "    </tr>\n",
       "    <tr>\n",
       "      <th>265431</th>\n",
       "      <td>6548643403</td>\n",
       "      <td>5470480130</td>\n",
       "      <td>True</td>\n",
       "      <td>1651340867</td>\n",
       "      <td>1921</td>\n",
       "      <td>3763.0</td>\n",
       "      <td>2.0</td>\n",
       "      <td>0</td>\n",
       "      <td>3</td>\n",
       "      <td>43</td>\n",
       "      <td>4</td>\n",
       "      <td>236</td>\n",
       "    </tr>\n",
       "    <tr>\n",
       "      <th>131770</th>\n",
       "      <td>6546281610</td>\n",
       "      <td>5468398342</td>\n",
       "      <td>False</td>\n",
       "      <td>1651224759</td>\n",
       "      <td>1940</td>\n",
       "      <td>3555.0</td>\n",
       "      <td>3.0</td>\n",
       "      <td>7</td>\n",
       "      <td>22</td>\n",
       "      <td>65</td>\n",
       "      <td>4</td>\n",
       "      <td>118</td>\n",
       "    </tr>\n",
       "    <tr>\n",
       "      <th>183637</th>\n",
       "      <td>6547196119</td>\n",
       "      <td>5469207033</td>\n",
       "      <td>False</td>\n",
       "      <td>1651263880</td>\n",
       "      <td>2511</td>\n",
       "      <td>3367.0</td>\n",
       "      <td>1.0</td>\n",
       "      <td>7</td>\n",
       "      <td>22</td>\n",
       "      <td>31</td>\n",
       "      <td>8</td>\n",
       "      <td>274</td>\n",
       "    </tr>\n",
       "    <tr>\n",
       "      <th>258574</th>\n",
       "      <td>6548530005</td>\n",
       "      <td>5470373316</td>\n",
       "      <td>False</td>\n",
       "      <td>1651336324</td>\n",
       "      <td>1633</td>\n",
       "      <td>NaN</td>\n",
       "      <td>NaN</td>\n",
       "      <td>7</td>\n",
       "      <td>22</td>\n",
       "      <td>22</td>\n",
       "      <td>5</td>\n",
       "      <td>188</td>\n",
       "    </tr>\n",
       "    <tr>\n",
       "      <th>285386</th>\n",
       "      <td>6548942318</td>\n",
       "      <td>5470759814</td>\n",
       "      <td>True</td>\n",
       "      <td>1651356198</td>\n",
       "      <td>2418</td>\n",
       "      <td>1027.0</td>\n",
       "      <td>1.0</td>\n",
       "      <td>7</td>\n",
       "      <td>22</td>\n",
       "      <td>24</td>\n",
       "      <td>6</td>\n",
       "      <td>273</td>\n",
       "    </tr>\n",
       "    <tr>\n",
       "      <th>168158</th>\n",
       "      <td>6546957301</td>\n",
       "      <td>5468980853</td>\n",
       "      <td>True</td>\n",
       "      <td>1651252556</td>\n",
       "      <td>1895</td>\n",
       "      <td>4065.0</td>\n",
       "      <td>1.0</td>\n",
       "      <td>7</td>\n",
       "      <td>22</td>\n",
       "      <td>14</td>\n",
       "      <td>2</td>\n",
       "      <td>152</td>\n",
       "    </tr>\n",
       "    <tr>\n",
       "      <th>273983</th>\n",
       "      <td>6548777103</td>\n",
       "      <td>5470603477</td>\n",
       "      <td>True</td>\n",
       "      <td>1651346793</td>\n",
       "      <td>2016</td>\n",
       "      <td>2652.0</td>\n",
       "      <td>1.0</td>\n",
       "      <td>7</td>\n",
       "      <td>22</td>\n",
       "      <td>24</td>\n",
       "      <td>3</td>\n",
       "      <td>187</td>\n",
       "    </tr>\n",
       "  </tbody>\n",
       "</table>\n",
       "</div>"
      ],
      "text/plain": [
       "          match_id  match_seq_num  radiant_win  start_time  duration  avg_mmr  \\\n",
       "166498  6546930605     5468953953        False  1651251475      1789   2810.0   \n",
       "169031  6546972010     5468993335         True  1651253162      1858   3064.0   \n",
       "266522  6548661106     5470510192         True  1651341612      2568   2524.0   \n",
       "265431  6548643403     5470480130         True  1651340867      1921   3763.0   \n",
       "131770  6546281610     5468398342        False  1651224759      1940   3555.0   \n",
       "183637  6547196119     5469207033        False  1651263880      2511   3367.0   \n",
       "258574  6548530005     5470373316        False  1651336324      1633      NaN   \n",
       "285386  6548942318     5470759814         True  1651356198      2418   1027.0   \n",
       "168158  6546957301     5468980853         True  1651252556      1895   4065.0   \n",
       "273983  6548777103     5470603477         True  1651346793      2016   2652.0   \n",
       "\n",
       "        num_mmr  lobby_type  game_mode  avg_rank_tier  num_rank_tier  cluster  \n",
       "166498      3.0           7         22             47              7      193  \n",
       "169031      1.0           7         22             24              3      144  \n",
       "266522      7.0           0         22             33              7      274  \n",
       "265431      2.0           0          3             43              4      236  \n",
       "131770      3.0           7         22             65              4      118  \n",
       "183637      1.0           7         22             31              8      274  \n",
       "258574      NaN           7         22             22              5      188  \n",
       "285386      1.0           7         22             24              6      273  \n",
       "168158      1.0           7         22             14              2      152  \n",
       "273983      1.0           7         22             24              3      187  "
      ]
     },
     "execution_count": 7,
     "metadata": {},
     "output_type": "execute_result"
    }
   ],
   "source": [
    "# I'm just gonna try breaking it into progressively smaller chunks until it goes through\n",
    "# start of april this year   1648785600\n",
    "# end of april this year     1651377600\n",
    "\n",
    "# first end timestamp  =     1649433600\n",
    "# second end timestamp =     1650100000\n",
    "# third end timestamp  =     1650600000\n",
    "# fourth end timestamp =     1651077600\n",
    "\n",
    "\n",
    "chunk_request1 = urllib.parse.quote(\"SELECT * FROM public_matches where start_time BETWEEN 1651077600 AND 1651377600\".encode(\"utf8\"))\n",
    "chunk_request2 = urllib.parse.quote(\"SELECT * FROM public_matches where start_time BETWEEN 1651077600 AND 1651377600\".encode(\"utf8\"))\n",
    "chunk_request3 = urllib.parse.quote(\"SELECT * FROM public_matches where start_time BETWEEN 1651077600 AND 1651377600\".encode(\"utf8\"))\n",
    "chunk_request4 = urllib.parse.quote(\"SELECT * FROM public_matches where start_time BETWEEN 1651077600 AND 1651377600\".encode(\"utf8\"))\n",
    "chunk_requests = [chunk_request1, chunk_request2, chunk_request3, chunk_request4]\n",
    "\n",
    "# accumulator df\n",
    "mega_df = pd.DataFrame()\n",
    "\n",
    "for req in chunk_requests:\n",
    "    print(req) # SQL string\n",
    "    chunk_request_string = \"https://api.opendota.com/api/explorer?sql=\" + req\n",
    "    print(chunk_request_string) # API string\n",
    "    chunk_response = requests.get(chunk_request_string)\n",
    "    print(chunk_response) # response code\n",
    "    chunk_parsed_json = json.loads(chunk_response.content)\n",
    "    chunk_df = pd.DataFrame(chunk_parsed_json[\"rows\"])\n",
    "    mega_df = pd.concat([mega_df, chunk_df])\n",
    "\n",
    "print(\"Number of rows: \" + str(len(mega_df)))\n",
    "mega_df.sample(10)"
   ]
  },
  {
   "cell_type": "markdown",
   "metadata": {},
   "source": [
    "Alright so that's our dataset in memory (probably also on disk? pandas is handling it so I don't have to). 2.7 million matches of DotA 2. Let's get it saved to disk before something explodes. Using `sqlite3` because it's an easy, local, compact database and it plays nice with pandas."
   ]
  },
  {
   "cell_type": "code",
   "execution_count": 8,
   "metadata": {},
   "outputs": [],
   "source": [
    "import sqlite3"
   ]
  },
  {
   "cell_type": "code",
   "execution_count": 11,
   "metadata": {},
   "outputs": [],
   "source": [
    "database = \"./dootaboose.sqlite\"\n",
    "conn = sqlite3.connect(database)\n",
    "mega_df.to_sql(name='PublicMatchesApril', con=conn)\n",
    "conn.close()"
   ]
  },
  {
   "cell_type": "markdown",
   "metadata": {},
   "source": [
    "WOOOO! SAFE. Okay, now whenever we want to draw the data out of the database we can use the commented-out code below. There is technically an issue with the index getting copied into a new column. It's probably as easy as adding an argument to read_sql() to fix that, but I don't wanna fool with it. It's techincally not necessary to save the database to follow along here, just good practice."
   ]
  },
  {
   "cell_type": "code",
   "execution_count": 12,
   "metadata": {},
   "outputs": [],
   "source": [
    "# database = \"./dootaboose.sqlite\"\n",
    "# conn = sqlite3.connect(database)\n",
    "# mega_df =  pd.read_sql(\"select * from PublicMatchesApril\", con=conn)\n",
    "# conn.close()"
   ]
  },
  {
   "cell_type": "markdown",
   "metadata": {},
   "source": [
    "Here I was doing a little warm-up exploratory analysis. I wanted to make sure that my data seemed reasonable in case I made some mistake grabbing it. Here I get the total number of matches, the number of Radiant and Dire wins, and their winrates. If they didn't add up to 100%, I'd have known that there was something strange about the data."
   ]
  },
  {
   "cell_type": "code",
   "execution_count": 13,
   "metadata": {},
   "outputs": [
    {
     "name": "stdout",
     "output_type": "stream",
     "text": [
      "Matches: 1198380\n",
      "Radiant Wins: 595272\n",
      "Dire Wins: 603108\n",
      "Radiant Winrate: 0.4967305862914935\n",
      "Dire Winrate: 0.5032694137085065\n"
     ]
    }
   ],
   "source": [
    "# mega_df[\"radiant_win\"].isnull().sum()\n",
    "print(\"Matches: \" + str(mega_df[\"radiant_win\"].count()))\n",
    "print(\"Radiant Wins: \" + str(mega_df[\"radiant_win\"].sum()))\n",
    "print(\"Dire Wins: \" + str(mega_df[\"radiant_win\"].count() - mega_df[\"radiant_win\"].sum()))\n",
    "print(\"Radiant Winrate: \" + str(mega_df[\"radiant_win\"].sum() / mega_df[\"radiant_win\"].count()))\n",
    "print(\"Dire Winrate: \" + str((mega_df[\"radiant_win\"].count() - mega_df[\"radiant_win\"].sum()) / mega_df[\"radiant_win\"].count()))"
   ]
  },
  {
   "cell_type": "markdown",
   "metadata": {},
   "source": [
    "Here I wanted to figure out what all of the game_mode codes were. I used Dotabuff.com (https://dotabuff.com) to manually cross-reference these matches by match ID to see what they said the game mode was. \n",
    "* Mode 1: All Pick (tournaments?)\n",
    "* Mode 2: Captain's Mode (tournaments)\n",
    "* Mode 3: Random Draft\n",
    "* Mode 4: Single Draft\n",
    "* Mode 5: All Random\n",
    "* Mode 16: Captain's Draft\n",
    "* Mode 22: All Pick  \n",
    "The most commonly-played match type is All Pick, it's basically \"default\". Seems like there's a separate code for tournament All Pick, which is probably because tournament lobbies can choose to use the older version of All Pick with a different drafting and banning order. Captain's mode is the default game mode for professionals, while Captain's Draft is a lesser-played similar mode."
   ]
  },
  {
   "cell_type": "code",
   "execution_count": 14,
   "metadata": {},
   "outputs": [
    {
     "data": {
      "text/plain": [
       "array([22,  3,  4,  2,  5,  1, 16], dtype=int64)"
      ]
     },
     "execution_count": 14,
     "metadata": {},
     "output_type": "execute_result"
    }
   ],
   "source": [
    "mega_df[\"game_mode\"].unique()\n"
   ]
  },
  {
   "cell_type": "code",
   "execution_count": 15,
   "metadata": {},
   "outputs": [
    {
     "data": {
      "text/html": [
       "<div>\n",
       "<style scoped>\n",
       "    .dataframe tbody tr th:only-of-type {\n",
       "        vertical-align: middle;\n",
       "    }\n",
       "\n",
       "    .dataframe tbody tr th {\n",
       "        vertical-align: top;\n",
       "    }\n",
       "\n",
       "    .dataframe thead th {\n",
       "        text-align: right;\n",
       "    }\n",
       "</style>\n",
       "<table border=\"1\" class=\"dataframe\">\n",
       "  <thead>\n",
       "    <tr style=\"text-align: right;\">\n",
       "      <th></th>\n",
       "      <th>match_id</th>\n",
       "      <th>match_seq_num</th>\n",
       "      <th>radiant_win</th>\n",
       "      <th>start_time</th>\n",
       "      <th>duration</th>\n",
       "      <th>avg_mmr</th>\n",
       "      <th>num_mmr</th>\n",
       "      <th>lobby_type</th>\n",
       "      <th>game_mode</th>\n",
       "      <th>avg_rank_tier</th>\n",
       "      <th>num_rank_tier</th>\n",
       "      <th>cluster</th>\n",
       "    </tr>\n",
       "  </thead>\n",
       "  <tbody>\n",
       "    <tr>\n",
       "      <th>47162</th>\n",
       "      <td>6544820616</td>\n",
       "      <td>5467132471</td>\n",
       "      <td>True</td>\n",
       "      <td>1651135654</td>\n",
       "      <td>3332</td>\n",
       "      <td>NaN</td>\n",
       "      <td>NaN</td>\n",
       "      <td>1</td>\n",
       "      <td>1</td>\n",
       "      <td>68</td>\n",
       "      <td>9</td>\n",
       "      <td>155</td>\n",
       "    </tr>\n",
       "  </tbody>\n",
       "</table>\n",
       "</div>"
      ],
      "text/plain": [
       "         match_id  match_seq_num  radiant_win  start_time  duration  avg_mmr  \\\n",
       "47162  6544820616     5467132471         True  1651135654      3332      NaN   \n",
       "\n",
       "       num_mmr  lobby_type  game_mode  avg_rank_tier  num_rank_tier  cluster  \n",
       "47162      NaN           1          1             68              9      155  "
      ]
     },
     "execution_count": 15,
     "metadata": {},
     "output_type": "execute_result"
    }
   ],
   "source": [
    "mega_df[mega_df[\"game_mode\"] == 1].sample(1) # repeated with the above unique values to get sample matchids for manual checking."
   ]
  },
  {
   "cell_type": "markdown",
   "metadata": {},
   "source": [
    "I did the same thing with lobby types below. \n",
    "* Type 0: Normal Lobby\n",
    "* Type 1: League Lobby\n",
    "* Type 7: Ranked Lobby\n",
    "* Type 9: Battle Cup  \n",
    "Normal lobbies match similarly-skilled players. League lobbies are tournament matches with arbitrary players, generally professionals. Ranked lobbies are ranked matchmaking, where players with similar MMR are matched together to battle for MMR. Battle cup is a weekly special gamemode where players can get matched into tournaments with other teams. "
   ]
  },
  {
   "cell_type": "code",
   "execution_count": 16,
   "metadata": {},
   "outputs": [
    {
     "data": {
      "text/plain": [
       "array([7, 0, 1, 9], dtype=int64)"
      ]
     },
     "execution_count": 16,
     "metadata": {},
     "output_type": "execute_result"
    }
   ],
   "source": [
    "mega_df[\"lobby_type\"].unique()"
   ]
  },
  {
   "cell_type": "code",
   "execution_count": 17,
   "metadata": {},
   "outputs": [
    {
     "data": {
      "text/html": [
       "<div>\n",
       "<style scoped>\n",
       "    .dataframe tbody tr th:only-of-type {\n",
       "        vertical-align: middle;\n",
       "    }\n",
       "\n",
       "    .dataframe tbody tr th {\n",
       "        vertical-align: top;\n",
       "    }\n",
       "\n",
       "    .dataframe thead th {\n",
       "        text-align: right;\n",
       "    }\n",
       "</style>\n",
       "<table border=\"1\" class=\"dataframe\">\n",
       "  <thead>\n",
       "    <tr style=\"text-align: right;\">\n",
       "      <th></th>\n",
       "      <th>match_id</th>\n",
       "      <th>match_seq_num</th>\n",
       "      <th>radiant_win</th>\n",
       "      <th>start_time</th>\n",
       "      <th>duration</th>\n",
       "      <th>avg_mmr</th>\n",
       "      <th>num_mmr</th>\n",
       "      <th>lobby_type</th>\n",
       "      <th>game_mode</th>\n",
       "      <th>avg_rank_tier</th>\n",
       "      <th>num_rank_tier</th>\n",
       "      <th>cluster</th>\n",
       "    </tr>\n",
       "  </thead>\n",
       "  <tbody>\n",
       "    <tr>\n",
       "      <th>69966</th>\n",
       "      <td>6545262701</td>\n",
       "      <td>5467495858</td>\n",
       "      <td>False</td>\n",
       "      <td>1651155945</td>\n",
       "      <td>2307</td>\n",
       "      <td>3877.0</td>\n",
       "      <td>1.0</td>\n",
       "      <td>0</td>\n",
       "      <td>22</td>\n",
       "      <td>37</td>\n",
       "      <td>5</td>\n",
       "      <td>186</td>\n",
       "    </tr>\n",
       "  </tbody>\n",
       "</table>\n",
       "</div>"
      ],
      "text/plain": [
       "         match_id  match_seq_num  radiant_win  start_time  duration  avg_mmr  \\\n",
       "69966  6545262701     5467495858        False  1651155945      2307   3877.0   \n",
       "\n",
       "       num_mmr  lobby_type  game_mode  avg_rank_tier  num_rank_tier  cluster  \n",
       "69966      1.0           0         22             37              5      186  "
      ]
     },
     "execution_count": 17,
     "metadata": {},
     "output_type": "execute_result"
    }
   ],
   "source": [
    "mega_df[mega_df[\"lobby_type\"] == 0].sample(1) # repeated with the above unique values to get sample matchids for manual checking."
   ]
  },
  {
   "cell_type": "markdown",
   "metadata": {},
   "source": [
    "Here's where I figured out what \"cluster\" was. First I looked at the unique values and saw there were over 20 of them. Hypothesized that they had to do with some database shenanigans."
   ]
  },
  {
   "cell_type": "code",
   "execution_count": 18,
   "metadata": {},
   "outputs": [
    {
     "data": {
      "text/plain": [
       "array([193, 251, 152, 227, 188, 182, 184, 185, 273, 192, 187, 236, 121,\n",
       "       274, 186, 181, 183, 241, 191, 155, 346, 156, 201, 154, 231, 225,\n",
       "       153, 122, 232, 202, 151, 145, 161, 223, 144, 117, 261, 203, 118,\n",
       "       214, 271, 171, 347, 213, 172], dtype=int64)"
      ]
     },
     "execution_count": 18,
     "metadata": {},
     "output_type": "execute_result"
    }
   ],
   "source": [
    "mega_df[\"cluster\"].unique()"
   ]
  },
  {
   "cell_type": "markdown",
   "metadata": {},
   "source": [
    "I imported `matplotlib.pyplot` to do some visualization and try and figure out what clusters looked liked."
   ]
  },
  {
   "cell_type": "code",
   "execution_count": 19,
   "metadata": {},
   "outputs": [],
   "source": [
    "import matplotlib.pyplot as plt"
   ]
  },
  {
   "cell_type": "code",
   "execution_count": 20,
   "metadata": {},
   "outputs": [
    {
     "data": {
      "image/png": "[encoded data removed]",
      "text/plain": [
       "<Figure size 432x288 with 1 Axes>"
      ]
     },
     "metadata": {
      "needs_background": "light"
     },
     "output_type": "display_data"
    }
   ],
   "source": [
    "fig, ax = plt.subplots()\n",
    "for cluster, group in mega_df.groupby(\"cluster\"):\n",
    "    ax = group.plot(\"cluster\", \"match_seq_num\", kind=\"scatter\", ax=ax)\n",
    "# aight I'm kinda interested in cluster 1 but otherwise it looks like these don't have anything to do with match sequence"
   ]
  },
  {
   "cell_type": "markdown",
   "metadata": {},
   "source": [
    "I later remembered the .hist plot, which would have made more sense. Anyway, here I plotted the cluster number against the match sequence number. If the database was making the clusters, I assumed they would be related to time and thus related to the sequence that matches became available. There was absolutely no useful correlation, so time for a new hypothesis. I checked out that \"1\" cluster that we can see on the left of the graph on Dotabuff. (While rerunning the notebook to submit, that row somehow disappeared. Trust me, there was one row with cluster of 1)"
   ]
  },
  {
   "cell_type": "code",
   "execution_count": 21,
   "metadata": {},
   "outputs": [
    {
     "data": {
      "text/html": [
       "<div>\n",
       "<style scoped>\n",
       "    .dataframe tbody tr th:only-of-type {\n",
       "        vertical-align: middle;\n",
       "    }\n",
       "\n",
       "    .dataframe tbody tr th {\n",
       "        vertical-align: top;\n",
       "    }\n",
       "\n",
       "    .dataframe thead th {\n",
       "        text-align: right;\n",
       "    }\n",
       "</style>\n",
       "<table border=\"1\" class=\"dataframe\">\n",
       "  <thead>\n",
       "    <tr style=\"text-align: right;\">\n",
       "      <th></th>\n",
       "      <th>match_id</th>\n",
       "      <th>match_seq_num</th>\n",
       "      <th>radiant_win</th>\n",
       "      <th>start_time</th>\n",
       "      <th>duration</th>\n",
       "      <th>avg_mmr</th>\n",
       "      <th>num_mmr</th>\n",
       "      <th>lobby_type</th>\n",
       "      <th>game_mode</th>\n",
       "      <th>avg_rank_tier</th>\n",
       "      <th>num_rank_tier</th>\n",
       "      <th>cluster</th>\n",
       "    </tr>\n",
       "  </thead>\n",
       "  <tbody>\n",
       "  </tbody>\n",
       "</table>\n",
       "</div>"
      ],
      "text/plain": [
       "Empty DataFrame\n",
       "Columns: [match_id, match_seq_num, radiant_win, start_time, duration, avg_mmr, num_mmr, lobby_type, game_mode, avg_rank_tier, num_rank_tier, cluster]\n",
       "Index: []"
      ]
     },
     "execution_count": 21,
     "metadata": {},
     "output_type": "execute_result"
    }
   ],
   "source": [
    "mega_df[mega_df[\"cluster\"] == 1]"
   ]
  },
  {
   "cell_type": "markdown",
   "metadata": {},
   "source": [
    "Turned out that the region for that match was \"Unknown\", which made me think it might be region. Spat out a match for each cluster value and they all seemed to correlate perfectly with the regions Dotabuff gave for the matchIDs. Used that to manually figure out the regions for each cluster (listed in the comments of the code below, the markdown would take way too much space with line spacing)"
   ]
  },
  {
   "cell_type": "code",
   "execution_count": 22,
   "metadata": {},
   "outputs": [
    {
     "name": "stdout",
     "output_type": "stream",
     "text": [
      "Cluster: 193\tMatch: 6545369504\n",
      "Cluster: 251\tMatch: 6549061802\n",
      "Cluster: 152\tMatch: 6545341301\n",
      "Cluster: 227\tMatch: 6544962910\n",
      "Cluster: 188\tMatch: 6549020005\n",
      "Cluster: 182\tMatch: 6544953515\n",
      "Cluster: 184\tMatch: 6548746216\n",
      "Cluster: 185\tMatch: 6548739301\n",
      "Cluster: 273\tMatch: 6547115915\n",
      "Cluster: 192\tMatch: 6547978006\n",
      "Cluster: 187\tMatch: 6544357812\n",
      "Cluster: 236\tMatch: 6547835103\n",
      "Cluster: 121\tMatch: 6547357311\n",
      "Cluster: 274\tMatch: 6546966115\n",
      "Cluster: 186\tMatch: 6548618402\n",
      "Cluster: 181\tMatch: 6544454607\n",
      "Cluster: 183\tMatch: 6548106712\n",
      "Cluster: 241\tMatch: 6546716615\n",
      "Cluster: 191\tMatch: 6547215302\n",
      "Cluster: 155\tMatch: 6544814513\n",
      "Cluster: 346\tMatch: 6544254417\n",
      "Cluster: 156\tMatch: 6544113502\n",
      "Cluster: 201\tMatch: 6545895302\n",
      "Cluster: 154\tMatch: 6544778009\n",
      "Cluster: 231\tMatch: 6547766917\n",
      "Cluster: 225\tMatch: 6546561418\n",
      "Cluster: 153\tMatch: 6544825414\n",
      "Cluster: 122\tMatch: 6545971907\n",
      "Cluster: 232\tMatch: 6545133313\n",
      "Cluster: 202\tMatch: 6544067101\n",
      "Cluster: 151\tMatch: 6546831903\n",
      "Cluster: 145\tMatch: 6548368009\n",
      "Cluster: 161\tMatch: 6548847300\n",
      "Cluster: 223\tMatch: 6548631704\n",
      "Cluster: 144\tMatch: 6544719317\n",
      "Cluster: 117\tMatch: 6544450912\n",
      "Cluster: 261\tMatch: 6548107714\n",
      "Cluster: 203\tMatch: 6544366001\n",
      "Cluster: 118\tMatch: 6546060500\n",
      "Cluster: 214\tMatch: 6545736909\n",
      "Cluster: 271\tMatch: 6544460207\n",
      "Cluster: 171\tMatch: 6546237813\n",
      "Cluster: 347\tMatch: 6546925410\n",
      "Cluster: 213\tMatch: 6544352518\n",
      "Cluster: 172\tMatch: 6546461016\n"
     ]
    }
   ],
   "source": [
    "for cluster in mega_df[\"cluster\"].unique():\n",
    "    match = mega_df[mega_df[\"cluster\"] == cluster].sample(1)[\"match_id\"].values[0]\n",
    "    print(\"Cluster: {cluster:n}\\tMatch: {match:n}\".format(cluster=cluster, match=match))\n",
    "# I sampled four of these and they were all in Peru, so it seems likely that cluster describes region\n",
    "# Cluster 1 is Unknown\n",
    "# Cluster 251 is Peru\n",
    "# Cluster 236 is China\n",
    "# Cluster 144 is South Korea\n",
    "# Cluster 184 is Russia\n",
    "# Cluster 155 is SE Asia\n",
    "# Cluster 117 is US West\n",
    "# Cluster 273 is Europe\n",
    "# Cluster 156 is SE Asia (dupe 155)\n",
    "# Cluster 121 is US East\n",
    "# Cluster 182 is Russia (dupe 184)\n",
    "# Cluster 225 is China (dupe 236)\n",
    "# Cluster 118 is US West (dupe 117)\n",
    "# Cluster 227 is China (dupe 236)\n",
    "# Cluster 153 is SE Asia (dupe 155)\n",
    "# Cluster 122 is US East (dupe 121)\n",
    "# Cluster 181 is Russia (dupe 184)\n",
    "# Cluster 241 is Chile\n",
    "# Cluster 151 is SE Asia (dupe 155)\n",
    "# Cluster 346 is Unknown\n",
    "# Cluster 154 is SE Asia (dupe 155)\n",
    "# Cluster 152 is SE Asia (dupe 155)\n",
    "# Cluster 274 is Europe (dupe 273)\n",
    "# Cluster 232 is China (dupe 236)\n",
    "# Cluster 201 is South America\n",
    "# Cluster 185 is Russia (dupe 184)\n",
    "# Cluster 223 is China (dupe 236)\n",
    "# Cluster 188 is Russia (dupe 184)\n",
    "# Cluster 202 is South America (dupe 201)\n",
    "# Cluster 172 is Australia\n",
    "# Cluster 186 is Russia (dupe 184)\n",
    "# Cluster 347 is Unknown\n",
    "# Cluster 231 is China (dupe 236)\n",
    "# Cluster 187 is Russia (dupe 184)\n",
    "# Cluster 203 is South America (dupe 201)\n",
    "# Cluster 171 is Australia (dupe 172)\n",
    "# Cluster 145 is South Korea (dupe 144)\n",
    "# Cluster 183 is Russia (dupe 184)\n",
    "# Cluster 271 is Europe (273)\n",
    "# Cluster 192 is Europe East\n",
    "# Cluster 191 is Europe East (dupe 192)\n",
    "# Cluster 193 is Europe East (dupe 192)\n",
    "# Cluster 213 is South Africa\n",
    "# Cluster 161 is Dubai\n",
    "# Cluster 261 is India\n",
    "# Cluster 214 is South Africa (dupe 213)"
   ]
  },
  {
   "cell_type": "markdown",
   "metadata": {},
   "source": [
    "I imported `re` because I wanted to parse my manually-scribed data into a dict so I could use it to create a region column. I copied and pasted the comments from the above code block into a multi-line string, parsed the lines for cluster number and region, and mapped the two together in a dict."
   ]
  },
  {
   "cell_type": "code",
   "execution_count": 23,
   "metadata": {},
   "outputs": [],
   "source": [
    "import re\n",
    "\n",
    "# I manually checked all of those regions in Dotabuff (an online tool for Dota 2 data and statistics)\n",
    "region_string= \"\"\"# Cluster 1 is Unknown\n",
    "# Cluster 251 is Peru\n",
    "# Cluster 236 is China\n",
    "# Cluster 144 is South Korea\n",
    "# Cluster 184 is Russia\n",
    "# Cluster 155 is SE Asia\n",
    "# Cluster 117 is US West\n",
    "# Cluster 273 is Europe\n",
    "# Cluster 156 is SE Asia\n",
    "# Cluster 121 is US East\n",
    "# Cluster 182 is Russia\n",
    "# Cluster 225 is China\n",
    "# Cluster 118 is US West\n",
    "# Cluster 227 is China\n",
    "# Cluster 153 is SE Asia\n",
    "# Cluster 122 is US East\n",
    "# Cluster 181 is Russia\n",
    "# Cluster 241 is Chile\n",
    "# Cluster 151 is SE Asia\n",
    "# Cluster 346 is Unknown\n",
    "# Cluster 154 is SE Asia\n",
    "# Cluster 152 is SE Asia\n",
    "# Cluster 274 is Europe\n",
    "# Cluster 232 is China\n",
    "# Cluster 201 is South America\n",
    "# Cluster 185 is Russia\n",
    "# Cluster 223 is China\n",
    "# Cluster 188 is Russia\n",
    "# Cluster 202 is South America\n",
    "# Cluster 172 is Australia\n",
    "# Cluster 186 is Russia\n",
    "# Cluster 347 is Unknown\n",
    "# Cluster 231 is China\n",
    "# Cluster 187 is Russia\n",
    "# Cluster 203 is South America\n",
    "# Cluster 171 is Australia\n",
    "# Cluster 145 is South Korea\n",
    "# Cluster 183 is Russia\n",
    "# Cluster 271 is Europe\n",
    "# Cluster 192 is Europe East\n",
    "# Cluster 191 is Europe East\n",
    "# Cluster 193 is Europe East\n",
    "# Cluster 213 is South Africa\n",
    "# Cluster 161 is Dubai\n",
    "# Cluster 261 is India\n",
    "# Cluster 214 is South Africa\"\"\"\n",
    "\n",
    "cluster_regions = {}\n",
    "region_lines = region_string.splitlines()\n",
    "for line in region_lines:\n",
    "    search = re.search(r\"(?P<cluster>\\d{1,3}) is (?P<location>.+)\", line)\n",
    "    cluster = search.group(\"cluster\")\n",
    "    location = search.group(\"location\")\n",
    "    cluster_regions[cluster] = location"
   ]
  },
  {
   "cell_type": "markdown",
   "metadata": {},
   "source": [
    "Now we can see the region for each cluster number in this dict."
   ]
  },
  {
   "cell_type": "code",
   "execution_count": 24,
   "metadata": {},
   "outputs": [
    {
     "data": {
      "text/plain": [
       "{'1': 'Unknown',\n",
       " '251': 'Peru',\n",
       " '236': 'China',\n",
       " '144': 'South Korea',\n",
       " '184': 'Russia',\n",
       " '155': 'SE Asia',\n",
       " '117': 'US West',\n",
       " '273': 'Europe',\n",
       " '156': 'SE Asia',\n",
       " '121': 'US East',\n",
       " '182': 'Russia',\n",
       " '225': 'China',\n",
       " '118': 'US West',\n",
       " '227': 'China',\n",
       " '153': 'SE Asia',\n",
       " '122': 'US East',\n",
       " '181': 'Russia',\n",
       " '241': 'Chile',\n",
       " '151': 'SE Asia',\n",
       " '346': 'Unknown',\n",
       " '154': 'SE Asia',\n",
       " '152': 'SE Asia',\n",
       " '274': 'Europe',\n",
       " '232': 'China',\n",
       " '201': 'South America',\n",
       " '185': 'Russia',\n",
       " '223': 'China',\n",
       " '188': 'Russia',\n",
       " '202': 'South America',\n",
       " '172': 'Australia',\n",
       " '186': 'Russia',\n",
       " '347': 'Unknown',\n",
       " '231': 'China',\n",
       " '187': 'Russia',\n",
       " '203': 'South America',\n",
       " '171': 'Australia',\n",
       " '145': 'South Korea',\n",
       " '183': 'Russia',\n",
       " '271': 'Europe',\n",
       " '192': 'Europe East',\n",
       " '191': 'Europe East',\n",
       " '193': 'Europe East',\n",
       " '213': 'South Africa',\n",
       " '161': 'Dubai',\n",
       " '261': 'India',\n",
       " '214': 'South Africa'}"
      ]
     },
     "execution_count": 24,
     "metadata": {},
     "output_type": "execute_result"
    }
   ],
   "source": [
    "cluster_regions"
   ]
  },
  {
   "cell_type": "markdown",
   "metadata": {},
   "source": [
    "Here I am iterating through two million rows of a dataframe to map this stuff. Does pandas have an amazing and idiomatic way to do this? Certainly. Do I have the time to look it up? Certainly not. Code takes around 2-3 minutes to run but it does the job and it's only gotta do it once."
   ]
  },
  {
   "cell_type": "code",
   "execution_count": 25,
   "metadata": {},
   "outputs": [],
   "source": [
    "region = []\n",
    "for index, row in mega_df.iterrows():\n",
    "    region.append(cluster_regions[str(int(row[\"cluster\"]))])\n",
    "# mega_df[\"region\"] = cluster_regions[mega_df[\"cluster\"].as_int().as_str()]"
   ]
  },
  {
   "cell_type": "code",
   "execution_count": 26,
   "metadata": {},
   "outputs": [
    {
     "data": {
      "text/html": [
       "<div>\n",
       "<style scoped>\n",
       "    .dataframe tbody tr th:only-of-type {\n",
       "        vertical-align: middle;\n",
       "    }\n",
       "\n",
       "    .dataframe tbody tr th {\n",
       "        vertical-align: top;\n",
       "    }\n",
       "\n",
       "    .dataframe thead th {\n",
       "        text-align: right;\n",
       "    }\n",
       "</style>\n",
       "<table border=\"1\" class=\"dataframe\">\n",
       "  <thead>\n",
       "    <tr style=\"text-align: right;\">\n",
       "      <th></th>\n",
       "      <th>match_id</th>\n",
       "      <th>match_seq_num</th>\n",
       "      <th>radiant_win</th>\n",
       "      <th>start_time</th>\n",
       "      <th>duration</th>\n",
       "      <th>avg_mmr</th>\n",
       "      <th>num_mmr</th>\n",
       "      <th>lobby_type</th>\n",
       "      <th>game_mode</th>\n",
       "      <th>avg_rank_tier</th>\n",
       "      <th>num_rank_tier</th>\n",
       "      <th>cluster</th>\n",
       "      <th>region</th>\n",
       "    </tr>\n",
       "  </thead>\n",
       "  <tbody>\n",
       "    <tr>\n",
       "      <th>35827</th>\n",
       "      <td>6544611306</td>\n",
       "      <td>5466932264</td>\n",
       "      <td>True</td>\n",
       "      <td>1651118718</td>\n",
       "      <td>2676</td>\n",
       "      <td>3160.0</td>\n",
       "      <td>3.0</td>\n",
       "      <td>7</td>\n",
       "      <td>22</td>\n",
       "      <td>62</td>\n",
       "      <td>5</td>\n",
       "      <td>121</td>\n",
       "      <td>US East</td>\n",
       "    </tr>\n",
       "    <tr>\n",
       "      <th>224680</th>\n",
       "      <td>6547901709</td>\n",
       "      <td>5469837042</td>\n",
       "      <td>True</td>\n",
       "      <td>1651312677</td>\n",
       "      <td>1918</td>\n",
       "      <td>3491.0</td>\n",
       "      <td>5.0</td>\n",
       "      <td>7</td>\n",
       "      <td>22</td>\n",
       "      <td>53</td>\n",
       "      <td>5</td>\n",
       "      <td>156</td>\n",
       "      <td>SE Asia</td>\n",
       "    </tr>\n",
       "    <tr>\n",
       "      <th>112571</th>\n",
       "      <td>6545933717</td>\n",
       "      <td>5468083568</td>\n",
       "      <td>False</td>\n",
       "      <td>1651196198</td>\n",
       "      <td>1997</td>\n",
       "      <td>3281.0</td>\n",
       "      <td>2.0</td>\n",
       "      <td>7</td>\n",
       "      <td>22</td>\n",
       "      <td>59</td>\n",
       "      <td>5</td>\n",
       "      <td>251</td>\n",
       "      <td>Peru</td>\n",
       "    </tr>\n",
       "    <tr>\n",
       "      <th>233643</th>\n",
       "      <td>6548073007</td>\n",
       "      <td>5470015269</td>\n",
       "      <td>False</td>\n",
       "      <td>1651320466</td>\n",
       "      <td>3200</td>\n",
       "      <td>1742.0</td>\n",
       "      <td>1.0</td>\n",
       "      <td>7</td>\n",
       "      <td>22</td>\n",
       "      <td>14</td>\n",
       "      <td>3</td>\n",
       "      <td>185</td>\n",
       "      <td>Russia</td>\n",
       "    </tr>\n",
       "    <tr>\n",
       "      <th>251259</th>\n",
       "      <td>6548402804</td>\n",
       "      <td>5470249895</td>\n",
       "      <td>True</td>\n",
       "      <td>1651331764</td>\n",
       "      <td>1388</td>\n",
       "      <td>926.0</td>\n",
       "      <td>1.0</td>\n",
       "      <td>0</td>\n",
       "      <td>4</td>\n",
       "      <td>29</td>\n",
       "      <td>5</td>\n",
       "      <td>154</td>\n",
       "      <td>SE Asia</td>\n",
       "    </tr>\n",
       "  </tbody>\n",
       "</table>\n",
       "</div>"
      ],
      "text/plain": [
       "          match_id  match_seq_num  radiant_win  start_time  duration  avg_mmr  \\\n",
       "35827   6544611306     5466932264         True  1651118718      2676   3160.0   \n",
       "224680  6547901709     5469837042         True  1651312677      1918   3491.0   \n",
       "112571  6545933717     5468083568        False  1651196198      1997   3281.0   \n",
       "233643  6548073007     5470015269        False  1651320466      3200   1742.0   \n",
       "251259  6548402804     5470249895         True  1651331764      1388    926.0   \n",
       "\n",
       "        num_mmr  lobby_type  game_mode  avg_rank_tier  num_rank_tier  cluster  \\\n",
       "35827       3.0           7         22             62              5      121   \n",
       "224680      5.0           7         22             53              5      156   \n",
       "112571      2.0           7         22             59              5      251   \n",
       "233643      1.0           7         22             14              3      185   \n",
       "251259      1.0           0          4             29              5      154   \n",
       "\n",
       "         region  \n",
       "35827   US East  \n",
       "224680  SE Asia  \n",
       "112571     Peru  \n",
       "233643   Russia  \n",
       "251259  SE Asia  "
      ]
     },
     "execution_count": 26,
     "metadata": {},
     "output_type": "execute_result"
    }
   ],
   "source": [
    "mega_df[\"region\"] = region\n",
    "mega_df.sample(5)"
   ]
  },
  {
   "cell_type": "markdown",
   "metadata": {},
   "source": [
    "Now I turned my attention to num_mmr. No idea what it was, but here's me checking its relation to other data to try and figure it out."
   ]
  },
  {
   "cell_type": "code",
   "execution_count": 27,
   "metadata": {},
   "outputs": [
    {
     "data": {
      "text/plain": [
       "<AxesSubplot:xlabel='avg_mmr', ylabel='num_mmr'>"
      ]
     },
     "execution_count": 27,
     "metadata": {},
     "output_type": "execute_result"
    },
    {
     "data": {
      "image/png": "[encoded data removed]",
      "text/plain": [
       "<Figure size 432x288 with 1 Axes>"
      ]
     },
     "metadata": {
      "needs_background": "light"
     },
     "output_type": "display_data"
    }
   ],
   "source": [
    "# probably the number of players with a rank that it's calculating from? nope.\n",
    "# let me see if num_mmr is correlated with avg_mmr to get a hint\n",
    "sample = mega_df.sample(1000)\n",
    "sample.plot(\"avg_mmr\", \"num_mmr\", kind=\"scatter\")"
   ]
  },
  {
   "cell_type": "code",
   "execution_count": 28,
   "metadata": {},
   "outputs": [
    {
     "data": {
      "text/plain": [
       "311"
      ]
     },
     "execution_count": 28,
     "metadata": {},
     "output_type": "execute_result"
    },
    {
     "data": {
      "image/png": "[encoded data removed]",
      "text/plain": [
       "<Figure size 432x288 with 1 Axes>"
      ]
     },
     "metadata": {
      "needs_background": "light"
     },
     "output_type": "display_data"
    }
   ],
   "source": [
    "# okay this is interesting. I know the underlying distribution of mmr is roughly normal. \n",
    "# So almost any level of match can be a \"num_mmr\" 1 match\n",
    "# I think I need to know the distribution of these num_mmrs\n",
    "sample[\"num_mmr\"].value_counts().plot(kind=\"bar\")\n",
    "sample[\"num_mmr\"].isna().sum()"
   ]
  },
  {
   "cell_type": "code",
   "execution_count": 29,
   "metadata": {},
   "outputs": [
    {
     "data": {
      "text/plain": [
       "<AxesSubplot:xlabel='num_mmr', ylabel='duration'>"
      ]
     },
     "execution_count": 29,
     "metadata": {},
     "output_type": "execute_result"
    },
    {
     "data": {
      "image/png": "[encoded data removed]",
      "text/plain": [
       "<Figure size 432x288 with 1 Axes>"
      ]
     },
     "metadata": {
      "needs_background": "light"
     },
     "output_type": "display_data"
    }
   ],
   "source": [
    "# interesting. So it's... I can't really think of a quantity this is likely to represent based on how it correlates with mmr.\n",
    "# maybe it has something to do with smurf detection?\n",
    "# or maybe rank spread (higher spread = bigger number?) so far doesn't seem related to spread\n",
    "# let's see if there's a relationship with match time. smurfs usually have shorter matches because they stomp\n",
    "sample.plot(\"num_mmr\", \"duration\", kind=\"scatter\")"
   ]
  },
  {
   "cell_type": "code",
   "execution_count": 30,
   "metadata": {},
   "outputs": [
    {
     "data": {
      "text/plain": [
       "<AxesSubplot:xlabel='num_mmr', ylabel='duration'>"
      ]
     },
     "execution_count": 30,
     "metadata": {},
     "output_type": "execute_result"
    },
    {
     "data": {
      "image/png": "[encoded data removed]",
      "text/plain": [
       "<Figure size 432x288 with 1 Axes>"
      ]
     },
     "metadata": {
      "needs_background": "light"
     },
     "output_type": "display_data"
    }
   ],
   "source": [
    "# need a bigger sample\n",
    "sample2 = mega_df.sample(5000)\n",
    "sample2.plot(\"num_mmr\", \"duration\", kind=\"scatter\")"
   ]
  },
  {
   "cell_type": "code",
   "execution_count": 31,
   "metadata": {},
   "outputs": [
    {
     "data": {
      "text/html": [
       "<div>\n",
       "<style scoped>\n",
       "    .dataframe tbody tr th:only-of-type {\n",
       "        vertical-align: middle;\n",
       "    }\n",
       "\n",
       "    .dataframe tbody tr th {\n",
       "        vertical-align: top;\n",
       "    }\n",
       "\n",
       "    .dataframe thead th {\n",
       "        text-align: right;\n",
       "    }\n",
       "</style>\n",
       "<table border=\"1\" class=\"dataframe\">\n",
       "  <thead>\n",
       "    <tr style=\"text-align: right;\">\n",
       "      <th></th>\n",
       "      <th>match_id</th>\n",
       "      <th>match_seq_num</th>\n",
       "      <th>radiant_win</th>\n",
       "      <th>start_time</th>\n",
       "      <th>duration</th>\n",
       "      <th>avg_mmr</th>\n",
       "      <th>num_mmr</th>\n",
       "      <th>lobby_type</th>\n",
       "      <th>game_mode</th>\n",
       "      <th>avg_rank_tier</th>\n",
       "      <th>num_rank_tier</th>\n",
       "      <th>cluster</th>\n",
       "      <th>region</th>\n",
       "    </tr>\n",
       "  </thead>\n",
       "  <tbody>\n",
       "    <tr>\n",
       "      <th>124982</th>\n",
       "      <td>6546156010</td>\n",
       "      <td>5468295617</td>\n",
       "      <td>True</td>\n",
       "      <td>1651216280</td>\n",
       "      <td>2018</td>\n",
       "      <td>5778.0</td>\n",
       "      <td>10.0</td>\n",
       "      <td>1</td>\n",
       "      <td>2</td>\n",
       "      <td>80</td>\n",
       "      <td>10</td>\n",
       "      <td>155</td>\n",
       "      <td>SE Asia</td>\n",
       "    </tr>\n",
       "    <tr>\n",
       "      <th>191249</th>\n",
       "      <td>6547301017</td>\n",
       "      <td>5469305678</td>\n",
       "      <td>True</td>\n",
       "      <td>1651271086</td>\n",
       "      <td>2427</td>\n",
       "      <td>3215.0</td>\n",
       "      <td>10.0</td>\n",
       "      <td>1</td>\n",
       "      <td>2</td>\n",
       "      <td>58</td>\n",
       "      <td>10</td>\n",
       "      <td>122</td>\n",
       "      <td>US East</td>\n",
       "    </tr>\n",
       "    <tr>\n",
       "      <th>197646</th>\n",
       "      <td>6547392407</td>\n",
       "      <td>5469391006</td>\n",
       "      <td>True</td>\n",
       "      <td>1651280876</td>\n",
       "      <td>2096</td>\n",
       "      <td>3846.0</td>\n",
       "      <td>10.0</td>\n",
       "      <td>1</td>\n",
       "      <td>2</td>\n",
       "      <td>79</td>\n",
       "      <td>10</td>\n",
       "      <td>121</td>\n",
       "      <td>US East</td>\n",
       "    </tr>\n",
       "    <tr>\n",
       "      <th>199719</th>\n",
       "      <td>6547431506</td>\n",
       "      <td>5469446011</td>\n",
       "      <td>False</td>\n",
       "      <td>1651284269</td>\n",
       "      <td>2918</td>\n",
       "      <td>3846.0</td>\n",
       "      <td>10.0</td>\n",
       "      <td>1</td>\n",
       "      <td>2</td>\n",
       "      <td>79</td>\n",
       "      <td>10</td>\n",
       "      <td>122</td>\n",
       "      <td>US East</td>\n",
       "    </tr>\n",
       "    <tr>\n",
       "      <th>266704</th>\n",
       "      <td>6548663103</td>\n",
       "      <td>5470517693</td>\n",
       "      <td>False</td>\n",
       "      <td>1651341722</td>\n",
       "      <td>2293</td>\n",
       "      <td>4960.0</td>\n",
       "      <td>10.0</td>\n",
       "      <td>9</td>\n",
       "      <td>2</td>\n",
       "      <td>77</td>\n",
       "      <td>10</td>\n",
       "      <td>274</td>\n",
       "      <td>Europe</td>\n",
       "    </tr>\n",
       "    <tr>\n",
       "      <th>124982</th>\n",
       "      <td>6546156010</td>\n",
       "      <td>5468295617</td>\n",
       "      <td>True</td>\n",
       "      <td>1651216280</td>\n",
       "      <td>2018</td>\n",
       "      <td>5778.0</td>\n",
       "      <td>10.0</td>\n",
       "      <td>1</td>\n",
       "      <td>2</td>\n",
       "      <td>80</td>\n",
       "      <td>10</td>\n",
       "      <td>155</td>\n",
       "      <td>SE Asia</td>\n",
       "    </tr>\n",
       "    <tr>\n",
       "      <th>191249</th>\n",
       "      <td>6547301017</td>\n",
       "      <td>5469305678</td>\n",
       "      <td>True</td>\n",
       "      <td>1651271086</td>\n",
       "      <td>2427</td>\n",
       "      <td>3215.0</td>\n",
       "      <td>10.0</td>\n",
       "      <td>1</td>\n",
       "      <td>2</td>\n",
       "      <td>58</td>\n",
       "      <td>10</td>\n",
       "      <td>122</td>\n",
       "      <td>US East</td>\n",
       "    </tr>\n",
       "    <tr>\n",
       "      <th>197646</th>\n",
       "      <td>6547392407</td>\n",
       "      <td>5469391006</td>\n",
       "      <td>True</td>\n",
       "      <td>1651280876</td>\n",
       "      <td>2096</td>\n",
       "      <td>3846.0</td>\n",
       "      <td>10.0</td>\n",
       "      <td>1</td>\n",
       "      <td>2</td>\n",
       "      <td>79</td>\n",
       "      <td>10</td>\n",
       "      <td>121</td>\n",
       "      <td>US East</td>\n",
       "    </tr>\n",
       "    <tr>\n",
       "      <th>199719</th>\n",
       "      <td>6547431506</td>\n",
       "      <td>5469446011</td>\n",
       "      <td>False</td>\n",
       "      <td>1651284269</td>\n",
       "      <td>2918</td>\n",
       "      <td>3846.0</td>\n",
       "      <td>10.0</td>\n",
       "      <td>1</td>\n",
       "      <td>2</td>\n",
       "      <td>79</td>\n",
       "      <td>10</td>\n",
       "      <td>122</td>\n",
       "      <td>US East</td>\n",
       "    </tr>\n",
       "    <tr>\n",
       "      <th>266704</th>\n",
       "      <td>6548663103</td>\n",
       "      <td>5470517693</td>\n",
       "      <td>False</td>\n",
       "      <td>1651341722</td>\n",
       "      <td>2293</td>\n",
       "      <td>4960.0</td>\n",
       "      <td>10.0</td>\n",
       "      <td>9</td>\n",
       "      <td>2</td>\n",
       "      <td>77</td>\n",
       "      <td>10</td>\n",
       "      <td>274</td>\n",
       "      <td>Europe</td>\n",
       "    </tr>\n",
       "    <tr>\n",
       "      <th>124982</th>\n",
       "      <td>6546156010</td>\n",
       "      <td>5468295617</td>\n",
       "      <td>True</td>\n",
       "      <td>1651216280</td>\n",
       "      <td>2018</td>\n",
       "      <td>5778.0</td>\n",
       "      <td>10.0</td>\n",
       "      <td>1</td>\n",
       "      <td>2</td>\n",
       "      <td>80</td>\n",
       "      <td>10</td>\n",
       "      <td>155</td>\n",
       "      <td>SE Asia</td>\n",
       "    </tr>\n",
       "    <tr>\n",
       "      <th>191249</th>\n",
       "      <td>6547301017</td>\n",
       "      <td>5469305678</td>\n",
       "      <td>True</td>\n",
       "      <td>1651271086</td>\n",
       "      <td>2427</td>\n",
       "      <td>3215.0</td>\n",
       "      <td>10.0</td>\n",
       "      <td>1</td>\n",
       "      <td>2</td>\n",
       "      <td>58</td>\n",
       "      <td>10</td>\n",
       "      <td>122</td>\n",
       "      <td>US East</td>\n",
       "    </tr>\n",
       "    <tr>\n",
       "      <th>197646</th>\n",
       "      <td>6547392407</td>\n",
       "      <td>5469391006</td>\n",
       "      <td>True</td>\n",
       "      <td>1651280876</td>\n",
       "      <td>2096</td>\n",
       "      <td>3846.0</td>\n",
       "      <td>10.0</td>\n",
       "      <td>1</td>\n",
       "      <td>2</td>\n",
       "      <td>79</td>\n",
       "      <td>10</td>\n",
       "      <td>121</td>\n",
       "      <td>US East</td>\n",
       "    </tr>\n",
       "    <tr>\n",
       "      <th>199719</th>\n",
       "      <td>6547431506</td>\n",
       "      <td>5469446011</td>\n",
       "      <td>False</td>\n",
       "      <td>1651284269</td>\n",
       "      <td>2918</td>\n",
       "      <td>3846.0</td>\n",
       "      <td>10.0</td>\n",
       "      <td>1</td>\n",
       "      <td>2</td>\n",
       "      <td>79</td>\n",
       "      <td>10</td>\n",
       "      <td>122</td>\n",
       "      <td>US East</td>\n",
       "    </tr>\n",
       "    <tr>\n",
       "      <th>266704</th>\n",
       "      <td>6548663103</td>\n",
       "      <td>5470517693</td>\n",
       "      <td>False</td>\n",
       "      <td>1651341722</td>\n",
       "      <td>2293</td>\n",
       "      <td>4960.0</td>\n",
       "      <td>10.0</td>\n",
       "      <td>9</td>\n",
       "      <td>2</td>\n",
       "      <td>77</td>\n",
       "      <td>10</td>\n",
       "      <td>274</td>\n",
       "      <td>Europe</td>\n",
       "    </tr>\n",
       "    <tr>\n",
       "      <th>124982</th>\n",
       "      <td>6546156010</td>\n",
       "      <td>5468295617</td>\n",
       "      <td>True</td>\n",
       "      <td>1651216280</td>\n",
       "      <td>2018</td>\n",
       "      <td>5778.0</td>\n",
       "      <td>10.0</td>\n",
       "      <td>1</td>\n",
       "      <td>2</td>\n",
       "      <td>80</td>\n",
       "      <td>10</td>\n",
       "      <td>155</td>\n",
       "      <td>SE Asia</td>\n",
       "    </tr>\n",
       "    <tr>\n",
       "      <th>191249</th>\n",
       "      <td>6547301017</td>\n",
       "      <td>5469305678</td>\n",
       "      <td>True</td>\n",
       "      <td>1651271086</td>\n",
       "      <td>2427</td>\n",
       "      <td>3215.0</td>\n",
       "      <td>10.0</td>\n",
       "      <td>1</td>\n",
       "      <td>2</td>\n",
       "      <td>58</td>\n",
       "      <td>10</td>\n",
       "      <td>122</td>\n",
       "      <td>US East</td>\n",
       "    </tr>\n",
       "    <tr>\n",
       "      <th>197646</th>\n",
       "      <td>6547392407</td>\n",
       "      <td>5469391006</td>\n",
       "      <td>True</td>\n",
       "      <td>1651280876</td>\n",
       "      <td>2096</td>\n",
       "      <td>3846.0</td>\n",
       "      <td>10.0</td>\n",
       "      <td>1</td>\n",
       "      <td>2</td>\n",
       "      <td>79</td>\n",
       "      <td>10</td>\n",
       "      <td>121</td>\n",
       "      <td>US East</td>\n",
       "    </tr>\n",
       "    <tr>\n",
       "      <th>199719</th>\n",
       "      <td>6547431506</td>\n",
       "      <td>5469446011</td>\n",
       "      <td>False</td>\n",
       "      <td>1651284269</td>\n",
       "      <td>2918</td>\n",
       "      <td>3846.0</td>\n",
       "      <td>10.0</td>\n",
       "      <td>1</td>\n",
       "      <td>2</td>\n",
       "      <td>79</td>\n",
       "      <td>10</td>\n",
       "      <td>122</td>\n",
       "      <td>US East</td>\n",
       "    </tr>\n",
       "    <tr>\n",
       "      <th>266704</th>\n",
       "      <td>6548663103</td>\n",
       "      <td>5470517693</td>\n",
       "      <td>False</td>\n",
       "      <td>1651341722</td>\n",
       "      <td>2293</td>\n",
       "      <td>4960.0</td>\n",
       "      <td>10.0</td>\n",
       "      <td>9</td>\n",
       "      <td>2</td>\n",
       "      <td>77</td>\n",
       "      <td>10</td>\n",
       "      <td>274</td>\n",
       "      <td>Europe</td>\n",
       "    </tr>\n",
       "  </tbody>\n",
       "</table>\n",
       "</div>"
      ],
      "text/plain": [
       "          match_id  match_seq_num  radiant_win  start_time  duration  avg_mmr  \\\n",
       "124982  6546156010     5468295617         True  1651216280      2018   5778.0   \n",
       "191249  6547301017     5469305678         True  1651271086      2427   3215.0   \n",
       "197646  6547392407     5469391006         True  1651280876      2096   3846.0   \n",
       "199719  6547431506     5469446011        False  1651284269      2918   3846.0   \n",
       "266704  6548663103     5470517693        False  1651341722      2293   4960.0   \n",
       "124982  6546156010     5468295617         True  1651216280      2018   5778.0   \n",
       "191249  6547301017     5469305678         True  1651271086      2427   3215.0   \n",
       "197646  6547392407     5469391006         True  1651280876      2096   3846.0   \n",
       "199719  6547431506     5469446011        False  1651284269      2918   3846.0   \n",
       "266704  6548663103     5470517693        False  1651341722      2293   4960.0   \n",
       "124982  6546156010     5468295617         True  1651216280      2018   5778.0   \n",
       "191249  6547301017     5469305678         True  1651271086      2427   3215.0   \n",
       "197646  6547392407     5469391006         True  1651280876      2096   3846.0   \n",
       "199719  6547431506     5469446011        False  1651284269      2918   3846.0   \n",
       "266704  6548663103     5470517693        False  1651341722      2293   4960.0   \n",
       "124982  6546156010     5468295617         True  1651216280      2018   5778.0   \n",
       "191249  6547301017     5469305678         True  1651271086      2427   3215.0   \n",
       "197646  6547392407     5469391006         True  1651280876      2096   3846.0   \n",
       "199719  6547431506     5469446011        False  1651284269      2918   3846.0   \n",
       "266704  6548663103     5470517693        False  1651341722      2293   4960.0   \n",
       "\n",
       "        num_mmr  lobby_type  game_mode  avg_rank_tier  num_rank_tier  cluster  \\\n",
       "124982     10.0           1          2             80             10      155   \n",
       "191249     10.0           1          2             58             10      122   \n",
       "197646     10.0           1          2             79             10      121   \n",
       "199719     10.0           1          2             79             10      122   \n",
       "266704     10.0           9          2             77             10      274   \n",
       "124982     10.0           1          2             80             10      155   \n",
       "191249     10.0           1          2             58             10      122   \n",
       "197646     10.0           1          2             79             10      121   \n",
       "199719     10.0           1          2             79             10      122   \n",
       "266704     10.0           9          2             77             10      274   \n",
       "124982     10.0           1          2             80             10      155   \n",
       "191249     10.0           1          2             58             10      122   \n",
       "197646     10.0           1          2             79             10      121   \n",
       "199719     10.0           1          2             79             10      122   \n",
       "266704     10.0           9          2             77             10      274   \n",
       "124982     10.0           1          2             80             10      155   \n",
       "191249     10.0           1          2             58             10      122   \n",
       "197646     10.0           1          2             79             10      121   \n",
       "199719     10.0           1          2             79             10      122   \n",
       "266704     10.0           9          2             77             10      274   \n",
       "\n",
       "         region  \n",
       "124982  SE Asia  \n",
       "191249  US East  \n",
       "197646  US East  \n",
       "199719  US East  \n",
       "266704   Europe  \n",
       "124982  SE Asia  \n",
       "191249  US East  \n",
       "197646  US East  \n",
       "199719  US East  \n",
       "266704   Europe  \n",
       "124982  SE Asia  \n",
       "191249  US East  \n",
       "197646  US East  \n",
       "199719  US East  \n",
       "266704   Europe  \n",
       "124982  SE Asia  \n",
       "191249  US East  \n",
       "197646  US East  \n",
       "199719  US East  \n",
       "266704   Europe  "
      ]
     },
     "execution_count": 31,
     "metadata": {},
     "output_type": "execute_result"
    }
   ],
   "source": [
    "# okay that kinda looks a lot like a relationship so maybe there's something to the smurf theory?\n",
    "# I'm going to make a reddit post and ask if anyone knows what this field describes\n",
    "mega_df[mega_df[\"num_mmr\"] == 10.] # kinda rare"
   ]
  },
  {
   "cell_type": "markdown",
   "metadata": {},
   "source": [
    "At this point I had no idea what it was other than possibly that it had to do with some outdated setting to make MMR visible to third parties? I should have just said something wrong and then I bet reddit would have been super helpful. It was at this point that I figured I knew enough about the columns and could begin to quality check the data. Here I list how many null values each column has. We can see that I only have nulls for avg_ and num_mmr, and exactly the same number. Useful."
   ]
  },
  {
   "cell_type": "code",
   "execution_count": 32,
   "metadata": {},
   "outputs": [
    {
     "data": {
      "text/plain": [
       "match_id              0\n",
       "match_seq_num         0\n",
       "radiant_win           0\n",
       "start_time            0\n",
       "duration              0\n",
       "avg_mmr          384684\n",
       "num_mmr          384684\n",
       "lobby_type            0\n",
       "game_mode             0\n",
       "avg_rank_tier         0\n",
       "num_rank_tier         0\n",
       "cluster               0\n",
       "region                0\n",
       "dtype: int64"
      ]
     },
     "execution_count": 32,
     "metadata": {},
     "output_type": "execute_result"
    }
   ],
   "source": [
    "mega_df.isnull().sum()\n",
    "# okay so we got ~850k games with no rank data\n",
    "# everything else is fine"
   ]
  },
  {
   "cell_type": "markdown",
   "metadata": {},
   "source": [
    "Here we can see that ~29% of ranked matches do not have an average mmr listed, which is very strange. I also noticed that unranked matches do have an mmr variable sometimes, but that's fine with my understanding. There is a \"hidden mmr\" for your unranked matches to make sure new players don't match with actual professionals."
   ]
  },
  {
   "cell_type": "code",
   "execution_count": 33,
   "metadata": {},
   "outputs": [
    {
     "name": "stdout",
     "output_type": "stream",
     "text": [
      "Number of Total Ranked Matches: 967492\n",
      "Number of Ranked Matches Without MMR: 286136\n"
     ]
    },
    {
     "data": {
      "text/plain": [
       "0.29575024909766695"
      ]
     },
     "execution_count": 33,
     "metadata": {},
     "output_type": "execute_result"
    }
   ],
   "source": [
    "num_ranked_without_mmr = mega_df[mega_df[\"lobby_type\"] == 7].isnull().sum()[\"avg_mmr\"]\n",
    "num_ranked_total = len(mega_df[mega_df[\"lobby_type\"] == 7])\n",
    "print(\"Number of Total Ranked Matches: \" + str(num_ranked_total))\n",
    "print(\"Number of Ranked Matches Without MMR: \" + str(num_ranked_without_mmr))\n",
    "num_ranked_without_mmr / num_ranked_total\n",
    "# 29% of ranked matches have no mmr here"
   ]
  },
  {
   "cell_type": "markdown",
   "metadata": {},
   "source": [
    "Made a dataframe for ranked games and ranked games with avg_mmr shown."
   ]
  },
  {
   "cell_type": "code",
   "execution_count": 34,
   "metadata": {},
   "outputs": [],
   "source": [
    "ranked_df = mega_df[mega_df[\"lobby_type\"] == 7].copy()\n",
    "ranked_with_mmr_df = ranked_df[ranked_df[\"avg_mmr\"].notna()].copy()"
   ]
  },
  {
   "cell_type": "markdown",
   "metadata": {},
   "source": [
    "Now I simply visualize the distributions of various columns to draw conclusions from them."
   ]
  },
  {
   "cell_type": "code",
   "execution_count": 35,
   "metadata": {},
   "outputs": [
    {
     "data": {
      "text/plain": [
       "<AxesSubplot:ylabel='ones'>"
      ]
     },
     "execution_count": 35,
     "metadata": {},
     "output_type": "execute_result"
    },
    {
     "data": {
      "image/png": "[encoded data removed]",
      "text/plain": [
       "<Figure size 432x288 with 1 Axes>"
      ]
     },
     "metadata": {},
     "output_type": "display_data"
    }
   ],
   "source": [
    "# gotta add a col of 1s so I can plot this\n",
    "distribution_df = mega_df.copy()\n",
    "distribution_df[\"ones\"] = 1\n",
    "distribution_df.groupby(['lobby_type']).sum().plot(kind=\"pie\", y=\"ones\")\n",
    "# if we check this without plotting we can see that there are a combined total of ~3k matches out of 3 million in lobby types 1 and 9 (tournaments and battle cups)"
   ]
  },
  {
   "cell_type": "code",
   "execution_count": 36,
   "metadata": {},
   "outputs": [
    {
     "data": {
      "text/plain": [
       "<AxesSubplot:ylabel='ones'>"
      ]
     },
     "execution_count": 36,
     "metadata": {},
     "output_type": "execute_result"
    },
    {
     "data": {
      "image/png": "[encoded data removed]",
      "text/plain": [
       "<Figure size 432x288 with 1 Axes>"
      ]
     },
     "metadata": {},
     "output_type": "display_data"
    }
   ],
   "source": [
    "# plot of distributions of game mode\n",
    "distribution_df.groupby(['game_mode']).sum().plot(kind=\"pie\", y=\"ones\")"
   ]
  },
  {
   "cell_type": "code",
   "execution_count": 37,
   "metadata": {},
   "outputs": [
    {
     "data": {
      "text/plain": [
       "<AxesSubplot:ylabel='ones'>"
      ]
     },
     "execution_count": 37,
     "metadata": {},
     "output_type": "execute_result"
    },
    {
     "data": {
      "image/png": "[encoded data removed]",
      "text/plain": [
       "<Figure size 432x288 with 1 Axes>"
      ]
     },
     "metadata": {},
     "output_type": "display_data"
    }
   ],
   "source": [
    "# plot of distributions of game mode - lobby type (e.g. different category for ranked all pick and unranked all pick)\n",
    "# so with 4 lobby types and 7 different gamemodes we have a theoretical max of 28 possible game-lobby types\n",
    "# ranked_distribution_df = ranked_df.copy()\n",
    "distribution_df[distribution_df[\"lobby_type\"] == 7].groupby(['game_mode']).sum().plot(kind=\"pie\", y=\"ones\")\n",
    "# gamemodes in ranked"
   ]
  },
  {
   "cell_type": "code",
   "execution_count": 38,
   "metadata": {},
   "outputs": [
    {
     "data": {
      "text/plain": [
       "<AxesSubplot:ylabel='ones'>"
      ]
     },
     "execution_count": 38,
     "metadata": {},
     "output_type": "execute_result"
    },
    {
     "data": {
      "image/png": "[encoded data removed]",
      "text/plain": [
       "<Figure size 432x288 with 1 Axes>"
      ]
     },
     "metadata": {},
     "output_type": "display_data"
    }
   ],
   "source": [
    "distribution_df[distribution_df[\"lobby_type\"] == 0].groupby(['game_mode']).sum().plot(kind=\"pie\", y=\"ones\")\n",
    "# gamemodes in unranked\n",
    "# okay this is kinda neat actually, low prio is single draft and that's like 25% of matches"
   ]
  },
  {
   "cell_type": "code",
   "execution_count": 39,
   "metadata": {},
   "outputs": [],
   "source": [
    "#distribution_df.groupby(['avg_rank_tier']).sum().plot(kind=\"pie\", y=\"ones\") \n",
    "# seems kinda even but also a PITA to format"
   ]
  },
  {
   "cell_type": "code",
   "execution_count": 40,
   "metadata": {},
   "outputs": [
    {
     "data": {
      "text/plain": [
       "<AxesSubplot:ylabel='ones'>"
      ]
     },
     "execution_count": 40,
     "metadata": {},
     "output_type": "execute_result"
    },
    {
     "data": {
      "image/png": "[encoded data removed]",
      "text/plain": [
       "<Figure size 432x288 with 1 Axes>"
      ]
     },
     "metadata": {},
     "output_type": "display_data"
    }
   ],
   "source": [
    "distribution_df.groupby(['region']).sum().plot(kind=\"pie\", y=\"ones\")\n",
    "# gonna want to polish this plot but it's useful. Lots of Russia, lots of SEA, lots of China."
   ]
  },
  {
   "cell_type": "markdown",
   "metadata": {},
   "source": [
    "Here we can see a histogram of the distribution of avg_mmr. Exactly as expected, it's a normal curve witb a center around ~3000, the average global rank. I also plotted histograms for unranked mmr and ranked mmr, which were interestingly the same. Slight right skew to account for the professionals who end up with MMR around 10k regularly, while the floor of 0 MMR keeps the worst players from skewing the graph left."
   ]
  },
  {
   "cell_type": "code",
   "execution_count": 41,
   "metadata": {},
   "outputs": [
    {
     "data": {
      "text/plain": [
       "array([[<AxesSubplot:title={'center':'avg_mmr'}>]], dtype=object)"
      ]
     },
     "execution_count": 41,
     "metadata": {},
     "output_type": "execute_result"
    },
    {
     "data": {
      "image/png": "[encoded data removed]",
      "text/plain": [
       "<Figure size 432x288 with 1 Axes>"
      ]
     },
     "metadata": {
      "needs_background": "light"
     },
     "output_type": "display_data"
    }
   ],
   "source": [
    "# I already kinda know the distribution of mmr but let's plot it\n",
    "# violin plot.\n",
    "\n",
    "# make a dict from x-category to values\n",
    "\n",
    "\n",
    "# fig, ax = plt.subplots()\n",
    "# ax.violinplot(data, widths=1, showmeans=True)\n",
    "\n",
    "# okay check this, plot with x = mmr, y = frequency\n",
    "# one for unranked with ranks one for ranked with ranks\n",
    "distribution_df.hist(\"avg_mmr\", bins=30)\n",
    "# could optimize this with buckets, might be a PITA to label like this\n",
    "# nah just use hist"
   ]
  },
  {
   "cell_type": "code",
   "execution_count": 42,
   "metadata": {},
   "outputs": [
    {
     "data": {
      "text/plain": [
       "array([[<AxesSubplot:title={'center':'avg_mmr'}>]], dtype=object)"
      ]
     },
     "execution_count": 42,
     "metadata": {},
     "output_type": "execute_result"
    },
    {
     "data": {
      "image/png": "[encoded data removed]",
      "text/plain": [
       "<Figure size 432x288 with 1 Axes>"
      ]
     },
     "metadata": {
      "needs_background": "light"
     },
     "output_type": "display_data"
    }
   ],
   "source": [
    "# distribution_df[distribution_df[\"lobby_type\"] == 0].groupby([\"avg_mmr\"]).sum().hist(\"avg_mmr\", bins=20)\n",
    "distribution_df[distribution_df[\"lobby_type\"] == 0].hist(\"avg_mmr\", bins=30)"
   ]
  },
  {
   "cell_type": "code",
   "execution_count": 43,
   "metadata": {},
   "outputs": [
    {
     "data": {
      "text/plain": [
       "array([[<AxesSubplot:title={'center':'avg_mmr'}>]], dtype=object)"
      ]
     },
     "execution_count": 43,
     "metadata": {},
     "output_type": "execute_result"
    },
    {
     "data": {
      "image/png": "[encoded data removed]",
      "text/plain": [
       "<Figure size 432x288 with 1 Axes>"
      ]
     },
     "metadata": {
      "needs_background": "light"
     },
     "output_type": "display_data"
    }
   ],
   "source": [
    "distribution_df[distribution_df[\"lobby_type\"] == 7].hist(\"avg_mmr\", bins=30)\n",
    "# extremely similar distribution of mmr between ranked and unranked, with a notably longer tail on ranked games"
   ]
  },
  {
   "cell_type": "code",
   "execution_count": 44,
   "metadata": {},
   "outputs": [
    {
     "data": {
      "text/plain": [
       "array([[<AxesSubplot:title={'center':'duration'}>]], dtype=object)"
      ]
     },
     "execution_count": 44,
     "metadata": {},
     "output_type": "execute_result"
    },
    {
     "data": {
      "image/png": "[encoded data removed]",
      "text/plain": [
       "<Figure size 432x288 with 1 Axes>"
      ]
     },
     "metadata": {
      "needs_background": "light"
     },
     "output_type": "display_data"
    }
   ],
   "source": [
    "distribution_df.hist(\"duration\", bins=30)\n",
    "# right-skewed, makes sense. It's physically difficult to end a game before a certain time even if the enemies are basically helping you."
   ]
  }
 ],
 "metadata": {
  "interpreter": {
   "hash": "26de051ba29f2982a8de78e945f0abaf191376122a1563185a90213a26c5da77"
  },
  "kernelspec": {
   "display_name": "Python 3.10.2 64-bit",
   "language": "python",
   "name": "python3"
  },
  "language_info": {
   "codemirror_mode": {
    "name": "ipython",
    "version": 3
   },
   "file_extension": ".py",
   "mimetype": "text/x-python",
   "name": "python",
   "nbconvert_exporter": "python",
   "pygments_lexer": "ipython3",
   "version": "3.10.2"
  },
  "orig_nbformat": 4
 },
 "nbformat": 4,
 "nbformat_minor": 2
}
